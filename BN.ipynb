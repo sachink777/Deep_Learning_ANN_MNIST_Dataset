{
  "nbformat": 4,
  "nbformat_minor": 0,
  "metadata": {
    "colab": {
      "name": "BN.ipynb",
      "provenance": []
    },
    "kernelspec": {
      "name": "python3",
      "display_name": "Python 3"
    },
    "language_info": {
      "name": "python"
    },
    "accelerator": "GPU"
  },
  "cells": [
    {
      "cell_type": "code",
      "execution_count": 29,
      "metadata": {
        "id": "fg0mdEP8RNV_"
      },
      "outputs": [],
      "source": [
        "ROOT = \"/content/drive/MyDrive/Colab Notebooks\""
      ]
    },
    {
      "cell_type": "code",
      "source": [
        "import os\n",
        "os.chdir(ROOT)\n",
        "os.getcwd()"
      ],
      "metadata": {
        "colab": {
          "base_uri": "https://localhost:8080/",
          "height": 36
        },
        "id": "fjdneDGtRl02",
        "outputId": "dbb61820-ea8f-4aa5-c0f7-e3669bf246dc"
      },
      "execution_count": 30,
      "outputs": [
        {
          "output_type": "execute_result",
          "data": {
            "text/plain": [
              "'/content/drive/MyDrive/Colab Notebooks'"
            ],
            "application/vnd.google.colaboratory.intrinsic+json": {
              "type": "string"
            }
          },
          "metadata": {},
          "execution_count": 30
        }
      ]
    },
    {
      "cell_type": "code",
      "source": [
        "import numpy as np\n",
        "import pandas as pd\n",
        "import matplotlib.pyplot as plt\n",
        "import seaborn as sns\n",
        "import tensorflow as tf\n",
        "plt.style.use('fivethirtyeight')\n",
        "%load_ext tensorboard"
      ],
      "metadata": {
        "colab": {
          "base_uri": "https://localhost:8080/"
        },
        "id": "zO9F8A2YR4xp",
        "outputId": "b48c633d-4840-47e8-d7a7-5c610f03468f"
      },
      "execution_count": 31,
      "outputs": [
        {
          "output_type": "stream",
          "name": "stdout",
          "text": [
            "The tensorboard extension is already loaded. To reload it, use:\n",
            "  %reload_ext tensorboard\n"
          ]
        }
      ]
    },
    {
      "cell_type": "code",
      "source": [
        "mnist = tf.keras.datasets.fashion_mnist\n",
        "\n",
        "(x_train, y_train), (x_test, y_test) = mnist.load_data()\n",
        "\n",
        "x_train = x_train[5000:]/ 255.0\n",
        "x_validation = x_train[:5000]/ 255.0\n",
        "y_train = y_train[5000:]\n",
        "y_validation = y_train[:5000]\n",
        "x_test = x_test /255.0"
      ],
      "metadata": {
        "id": "d6seiMstTBNi"
      },
      "execution_count": 32,
      "outputs": []
    },
    {
      "cell_type": "code",
      "source": [
        "tf.random.set_seed(42)\n",
        "np.random.seed(42)\n",
        "\n",
        "layers = [tf.keras.layers.Flatten( input_shape = [28, 28]),\n",
        "          tf.keras.layers.Dense(300, kernel_initializer= 'he_normal'),\n",
        "          tf.keras.layers.LeakyReLU(),\n",
        "          tf.keras.layers.Dense(100, kernel_initializer= 'he_normal'),\n",
        "          tf.keras.layers.LeakyReLU(),\n",
        "          tf.keras.layers.Dense(10, activation= 'softmax'),\n",
        "          ]\n",
        "model = tf.keras.models.Sequential(layers)"
      ],
      "metadata": {
        "id": "PeBXZVJTTecK"
      },
      "execution_count": 33,
      "outputs": []
    },
    {
      "cell_type": "code",
      "source": [
        "model.compile(loss = 'sparse_categorical_crossentropy',\n",
        "              optimizer = tf.keras.optimizers.SGD(lr = 1e-3),\n",
        "              metrics = ['accuracy'])"
      ],
      "metadata": {
        "colab": {
          "base_uri": "https://localhost:8080/"
        },
        "id": "HNvy5DD8Ttxr",
        "outputId": "01e1a4dc-0559-49ef-c830-82a2924e02a5"
      },
      "execution_count": 34,
      "outputs": [
        {
          "output_type": "stream",
          "name": "stderr",
          "text": [
            "/usr/local/lib/python3.7/dist-packages/keras/optimizer_v2/gradient_descent.py:102: UserWarning: The `lr` argument is deprecated, use `learning_rate` instead.\n",
            "  super(SGD, self).__init__(name, **kwargs)\n"
          ]
        }
      ]
    },
    {
      "cell_type": "code",
      "source": [
        "model.summary()"
      ],
      "metadata": {
        "colab": {
          "base_uri": "https://localhost:8080/"
        },
        "id": "I5oM00QUTzOV",
        "outputId": "81332a97-b18f-4767-e302-70308e4c91c3"
      },
      "execution_count": 35,
      "outputs": [
        {
          "output_type": "stream",
          "name": "stdout",
          "text": [
            "Model: \"sequential_3\"\n",
            "_________________________________________________________________\n",
            " Layer (type)                Output Shape              Param #   \n",
            "=================================================================\n",
            " flatten_4 (Flatten)         (None, 784)               0         \n",
            "                                                                 \n",
            " dense_9 (Dense)             (None, 300)               235500    \n",
            "                                                                 \n",
            " leaky_re_lu_2 (LeakyReLU)   (None, 300)               0         \n",
            "                                                                 \n",
            " dense_10 (Dense)            (None, 100)               30100     \n",
            "                                                                 \n",
            " leaky_re_lu_3 (LeakyReLU)   (None, 100)               0         \n",
            "                                                                 \n",
            " dense_11 (Dense)            (None, 10)                1010      \n",
            "                                                                 \n",
            "=================================================================\n",
            "Total params: 266,610\n",
            "Trainable params: 266,610\n",
            "Non-trainable params: 0\n",
            "_________________________________________________________________\n"
          ]
        }
      ]
    },
    {
      "cell_type": "code",
      "source": [
        "histry = model.fit(x_train, y_train, epochs = 10, validation_data = (x_validation, y_validation), verbose=2)"
      ],
      "metadata": {
        "colab": {
          "base_uri": "https://localhost:8080/"
        },
        "id": "UptD_lFgT2Zf",
        "outputId": "eb7acb64-f0f6-4437-990d-5cd390fad13d"
      },
      "execution_count": 36,
      "outputs": [
        {
          "output_type": "stream",
          "name": "stdout",
          "text": [
            "Epoch 1/10\n",
            "1719/1719 - 5s - loss: 1.2819 - accuracy: 0.6229 - val_loss: 2.2956 - val_accuracy: 0.0992 - 5s/epoch - 3ms/step\n",
            "Epoch 2/10\n",
            "1719/1719 - 6s - loss: 0.7955 - accuracy: 0.7361 - val_loss: 2.3004 - val_accuracy: 0.0992 - 6s/epoch - 3ms/step\n",
            "Epoch 3/10\n",
            "1719/1719 - 7s - loss: 0.6816 - accuracy: 0.7721 - val_loss: 2.3104 - val_accuracy: 0.0992 - 7s/epoch - 4ms/step\n",
            "Epoch 4/10\n",
            "1719/1719 - 4s - loss: 0.6217 - accuracy: 0.7944 - val_loss: 2.3233 - val_accuracy: 0.0992 - 4s/epoch - 3ms/step\n",
            "Epoch 5/10\n",
            "1719/1719 - 4s - loss: 0.5832 - accuracy: 0.8074 - val_loss: 2.3392 - val_accuracy: 0.0992 - 4s/epoch - 3ms/step\n",
            "Epoch 6/10\n",
            "1719/1719 - 5s - loss: 0.5553 - accuracy: 0.8156 - val_loss: 2.3559 - val_accuracy: 0.0992 - 5s/epoch - 3ms/step\n",
            "Epoch 7/10\n",
            "1719/1719 - 4s - loss: 0.5339 - accuracy: 0.8223 - val_loss: 2.3744 - val_accuracy: 0.0992 - 4s/epoch - 3ms/step\n",
            "Epoch 8/10\n",
            "1719/1719 - 4s - loss: 0.5173 - accuracy: 0.8272 - val_loss: 2.3945 - val_accuracy: 0.0992 - 4s/epoch - 3ms/step\n",
            "Epoch 9/10\n",
            "1719/1719 - 4s - loss: 0.5040 - accuracy: 0.8290 - val_loss: 2.4144 - val_accuracy: 0.0992 - 4s/epoch - 3ms/step\n",
            "Epoch 10/10\n",
            "1719/1719 - 4s - loss: 0.4924 - accuracy: 0.8319 - val_loss: 2.4348 - val_accuracy: 0.0992 - 4s/epoch - 3ms/step\n"
          ]
        }
      ]
    },
    {
      "cell_type": "markdown",
      "source": [
        "Batch Normalization"
      ],
      "metadata": {
        "id": "0NXto-ixUKf3"
      }
    },
    {
      "cell_type": "code",
      "source": [
        "del model "
      ],
      "metadata": {
        "id": "MqSXkhx8T7NQ"
      },
      "execution_count": 37,
      "outputs": []
    },
    {
      "cell_type": "code",
      "source": [
        "tf.random.set_seed(42)\n",
        "np.random.seed(42)\n",
        "\n",
        "layers_bn = [tf.keras.layers.Flatten( input_shape = [28, 28]),\n",
        "          tf.keras.layers.BatchNormalization(),\n",
        "          tf.keras.layers.Dense(300, activation= 'relu'),\n",
        "          tf.keras.layers.BatchNormalization(),\n",
        "          tf.keras.layers.Dense(100, activation= 'relu'),\n",
        "          tf.keras.layers.BatchNormalization(),\n",
        "          tf.keras.layers.Dense(10, activation= 'softmax'),\n",
        "          ]\n",
        "model = tf.keras.models.Sequential(layers_bn)"
      ],
      "metadata": {
        "id": "3iNjtum1UWL7"
      },
      "execution_count": 38,
      "outputs": []
    },
    {
      "cell_type": "code",
      "source": [
        "model.summary()"
      ],
      "metadata": {
        "colab": {
          "base_uri": "https://localhost:8080/"
        },
        "id": "KrFMk9B4U6As",
        "outputId": "d51f2cc5-6c6a-4d46-d620-20c9025c3b87"
      },
      "execution_count": 39,
      "outputs": [
        {
          "output_type": "stream",
          "name": "stdout",
          "text": [
            "Model: \"sequential_4\"\n",
            "_________________________________________________________________\n",
            " Layer (type)                Output Shape              Param #   \n",
            "=================================================================\n",
            " flatten_5 (Flatten)         (None, 784)               0         \n",
            "                                                                 \n",
            " batch_normalization_6 (Batc  (None, 784)              3136      \n",
            " hNormalization)                                                 \n",
            "                                                                 \n",
            " dense_12 (Dense)            (None, 300)               235500    \n",
            "                                                                 \n",
            " batch_normalization_7 (Batc  (None, 300)              1200      \n",
            " hNormalization)                                                 \n",
            "                                                                 \n",
            " dense_13 (Dense)            (None, 100)               30100     \n",
            "                                                                 \n",
            " batch_normalization_8 (Batc  (None, 100)              400       \n",
            " hNormalization)                                                 \n",
            "                                                                 \n",
            " dense_14 (Dense)            (None, 10)                1010      \n",
            "                                                                 \n",
            "=================================================================\n",
            "Total params: 271,346\n",
            "Trainable params: 268,978\n",
            "Non-trainable params: 2,368\n",
            "_________________________________________________________________\n"
          ]
        }
      ]
    },
    {
      "cell_type": "code",
      "source": [
        "28 * 28 *4"
      ],
      "metadata": {
        "colab": {
          "base_uri": "https://localhost:8080/"
        },
        "id": "v79AxZPoVDqm",
        "outputId": "deb736c3-acaf-4bcd-cef1-62d436ff7d68"
      },
      "execution_count": 40,
      "outputs": [
        {
          "output_type": "execute_result",
          "data": {
            "text/plain": [
              "3136"
            ]
          },
          "metadata": {},
          "execution_count": 40
        }
      ]
    },
    {
      "cell_type": "code",
      "source": [
        "300 *4"
      ],
      "metadata": {
        "colab": {
          "base_uri": "https://localhost:8080/"
        },
        "id": "JV9HjGxGVb6t",
        "outputId": "d89f3e3b-8d90-408a-83aa-e0e891b91dbc"
      },
      "execution_count": 41,
      "outputs": [
        {
          "output_type": "execute_result",
          "data": {
            "text/plain": [
              "1200"
            ]
          },
          "metadata": {},
          "execution_count": 41
        }
      ]
    },
    {
      "cell_type": "code",
      "source": [
        "bn1 = model.layers[1]"
      ],
      "metadata": {
        "id": "ELVK0SSdVeEE"
      },
      "execution_count": 42,
      "outputs": []
    },
    {
      "cell_type": "code",
      "source": [
        "for var in bn1.variables:\n",
        "  print(var.name, var.trainable)"
      ],
      "metadata": {
        "colab": {
          "base_uri": "https://localhost:8080/"
        },
        "id": "z6jnOqXkWZHn",
        "outputId": "0430dc50-21d8-48c0-8e51-a8fa66000ab2"
      },
      "execution_count": 43,
      "outputs": [
        {
          "output_type": "stream",
          "name": "stdout",
          "text": [
            "batch_normalization_6/gamma:0 True\n",
            "batch_normalization_6/beta:0 True\n",
            "batch_normalization_6/moving_mean:0 False\n",
            "batch_normalization_6/moving_variance:0 False\n"
          ]
        }
      ]
    },
    {
      "cell_type": "code",
      "source": [
        "model.compile(loss = 'sparse_categorical_crossentropy',\n",
        "              optimizer = tf.keras.optimizers.SGD(lr = 1e-3),\n",
        "              metrics = ['accuracy'])"
      ],
      "metadata": {
        "colab": {
          "base_uri": "https://localhost:8080/"
        },
        "id": "c834zheAWgge",
        "outputId": "9ab85098-0201-4097-b275-73e226a3246f"
      },
      "execution_count": 44,
      "outputs": [
        {
          "output_type": "stream",
          "name": "stderr",
          "text": [
            "/usr/local/lib/python3.7/dist-packages/keras/optimizer_v2/gradient_descent.py:102: UserWarning: The `lr` argument is deprecated, use `learning_rate` instead.\n",
            "  super(SGD, self).__init__(name, **kwargs)\n"
          ]
        }
      ]
    },
    {
      "cell_type": "code",
      "source": [
        "histry = model.fit(x_train, y_train, epochs = 10, validation_data = (x_validation, y_validation), verbose=2)"
      ],
      "metadata": {
        "colab": {
          "base_uri": "https://localhost:8080/"
        },
        "id": "Z-NFpmQXW2oO",
        "outputId": "bdc60cad-f852-4dcb-904c-7b1d4d23f11e"
      },
      "execution_count": 45,
      "outputs": [
        {
          "output_type": "stream",
          "name": "stdout",
          "text": [
            "Epoch 1/10\n",
            "1719/1719 - 9s - loss: 0.8558 - accuracy: 0.7169 - val_loss: 3.4103 - val_accuracy: 0.0992 - 9s/epoch - 5ms/step\n",
            "Epoch 2/10\n",
            "1719/1719 - 7s - loss: 0.5782 - accuracy: 0.8042 - val_loss: 3.1231 - val_accuracy: 0.0992 - 7s/epoch - 4ms/step\n",
            "Epoch 3/10\n",
            "1719/1719 - 7s - loss: 0.5226 - accuracy: 0.8210 - val_loss: 2.9739 - val_accuracy: 0.0992 - 7s/epoch - 4ms/step\n",
            "Epoch 4/10\n",
            "1719/1719 - 7s - loss: 0.4839 - accuracy: 0.8338 - val_loss: 2.9993 - val_accuracy: 0.0992 - 7s/epoch - 4ms/step\n",
            "Epoch 5/10\n",
            "1719/1719 - 7s - loss: 0.4596 - accuracy: 0.8397 - val_loss: 3.1999 - val_accuracy: 0.0992 - 7s/epoch - 4ms/step\n",
            "Epoch 6/10\n",
            "1719/1719 - 7s - loss: 0.4403 - accuracy: 0.8467 - val_loss: 3.0164 - val_accuracy: 0.0992 - 7s/epoch - 4ms/step\n",
            "Epoch 7/10\n",
            "1719/1719 - 7s - loss: 0.4279 - accuracy: 0.8510 - val_loss: 3.0589 - val_accuracy: 0.0992 - 7s/epoch - 4ms/step\n",
            "Epoch 8/10\n",
            "1719/1719 - 8s - loss: 0.4147 - accuracy: 0.8555 - val_loss: 3.1188 - val_accuracy: 0.0992 - 8s/epoch - 4ms/step\n",
            "Epoch 9/10\n",
            "1719/1719 - 7s - loss: 0.4045 - accuracy: 0.8586 - val_loss: 3.1709 - val_accuracy: 0.0992 - 7s/epoch - 4ms/step\n",
            "Epoch 10/10\n",
            "1719/1719 - 7s - loss: 0.3940 - accuracy: 0.8614 - val_loss: 3.2784 - val_accuracy: 0.0992 - 7s/epoch - 4ms/step\n"
          ]
        }
      ]
    },
    {
      "cell_type": "markdown",
      "source": [
        "BN approch 2"
      ],
      "metadata": {
        "id": "MtJ6PUlTnGwd"
      }
    },
    {
      "cell_type": "code",
      "source": [
        "del model"
      ],
      "metadata": {
        "id": "2ne0droCmooj"
      },
      "execution_count": 46,
      "outputs": []
    },
    {
      "cell_type": "code",
      "source": [
        "tf.random.set_seed(42)\n",
        "np.random.seed(42)\n",
        "\n",
        "layers_bn = [tf.keras.layers.Flatten( input_shape = [28, 28]),\n",
        "             tf.keras.layers.BatchNormalization(),\n",
        "          tf.keras.layers.Dense(300, use_bias = False),\n",
        "          tf.keras.layers.BatchNormalization(),\n",
        "          tf.keras.layers.Activation('relu'),\n",
        "          tf.keras.layers.Dense(100, use_bias = False),\n",
        "          tf.keras.layers.BatchNormalization(),\n",
        "          tf.keras.layers.Activation('relu'),\n",
        "          tf.keras.layers.Dense(10, activation= 'softmax'),\n",
        "          ]\n",
        "model = tf.keras.models.Sequential(layers_bn)"
      ],
      "metadata": {
        "id": "7N9Tgqu3nIKC"
      },
      "execution_count": 47,
      "outputs": []
    },
    {
      "cell_type": "code",
      "source": [
        "model.compile(loss = 'sparse_categorical_crossentropy',\n",
        "              optimizer = tf.keras.optimizers.SGD(lr = 1e-3),\n",
        "              metrics = ['accuracy'])"
      ],
      "metadata": {
        "colab": {
          "base_uri": "https://localhost:8080/"
        },
        "id": "rDEDYxFboCnA",
        "outputId": "40889675-b7d7-43e2-e600-dbcea61a070b"
      },
      "execution_count": 48,
      "outputs": [
        {
          "output_type": "stream",
          "name": "stderr",
          "text": [
            "/usr/local/lib/python3.7/dist-packages/keras/optimizer_v2/gradient_descent.py:102: UserWarning: The `lr` argument is deprecated, use `learning_rate` instead.\n",
            "  super(SGD, self).__init__(name, **kwargs)\n"
          ]
        }
      ]
    },
    {
      "cell_type": "code",
      "source": [
        "histry = model.fit(x_train, y_train, epochs = 10, validation_data = (x_validation, y_validation), verbose=2)"
      ],
      "metadata": {
        "colab": {
          "base_uri": "https://localhost:8080/"
        },
        "id": "QXNCKpbboGrf",
        "outputId": "08a24d3e-48b8-44e9-c622-3f2ebadd7896"
      },
      "execution_count": 49,
      "outputs": [
        {
          "output_type": "stream",
          "name": "stdout",
          "text": [
            "Epoch 1/10\n",
            "1719/1719 - 9s - loss: 1.0391 - accuracy: 0.6783 - val_loss: 3.4329 - val_accuracy: 0.0992 - 9s/epoch - 5ms/step\n",
            "Epoch 2/10\n",
            "1719/1719 - 7s - loss: 0.6757 - accuracy: 0.7855 - val_loss: 3.3373 - val_accuracy: 0.0992 - 7s/epoch - 4ms/step\n",
            "Epoch 3/10\n",
            "1719/1719 - 7s - loss: 0.5952 - accuracy: 0.8051 - val_loss: 3.3706 - val_accuracy: 0.0992 - 7s/epoch - 4ms/step\n",
            "Epoch 4/10\n",
            "1719/1719 - 7s - loss: 0.5455 - accuracy: 0.8199 - val_loss: 3.2531 - val_accuracy: 0.0992 - 7s/epoch - 4ms/step\n",
            "Epoch 5/10\n",
            "1719/1719 - 7s - loss: 0.5126 - accuracy: 0.8278 - val_loss: 3.3563 - val_accuracy: 0.0992 - 7s/epoch - 4ms/step\n",
            "Epoch 6/10\n",
            "1719/1719 - 7s - loss: 0.4896 - accuracy: 0.8346 - val_loss: 3.2397 - val_accuracy: 0.0992 - 7s/epoch - 4ms/step\n",
            "Epoch 7/10\n",
            "1719/1719 - 7s - loss: 0.4731 - accuracy: 0.8393 - val_loss: 3.2162 - val_accuracy: 0.0992 - 7s/epoch - 4ms/step\n",
            "Epoch 8/10\n",
            "1719/1719 - 7s - loss: 0.4580 - accuracy: 0.8442 - val_loss: 3.2270 - val_accuracy: 0.0992 - 7s/epoch - 4ms/step\n",
            "Epoch 9/10\n",
            "1719/1719 - 7s - loss: 0.4456 - accuracy: 0.8477 - val_loss: 3.2364 - val_accuracy: 0.0992 - 7s/epoch - 4ms/step\n",
            "Epoch 10/10\n",
            "1719/1719 - 7s - loss: 0.4335 - accuracy: 0.8516 - val_loss: 3.4293 - val_accuracy: 0.0992 - 7s/epoch - 4ms/step\n"
          ]
        }
      ]
    },
    {
      "cell_type": "code",
      "source": [
        ""
      ],
      "metadata": {
        "id": "rcm5mdGIoJ8M"
      },
      "execution_count": null,
      "outputs": []
    }
  ]
}