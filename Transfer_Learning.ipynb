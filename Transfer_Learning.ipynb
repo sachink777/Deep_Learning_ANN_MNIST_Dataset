{
  "nbformat": 4,
  "nbformat_minor": 0,
  "metadata": {
    "colab": {
      "name": "Transfer_Learning.ipynb",
      "provenance": []
    },
    "kernelspec": {
      "name": "python3",
      "display_name": "Python 3"
    },
    "language_info": {
      "name": "python"
    },
    "accelerator": "GPU"
  },
  "cells": [
    {
      "cell_type": "code",
      "execution_count": 1,
      "metadata": {
        "id": "JUB3Xl-OoEmZ"
      },
      "outputs": [],
      "source": [
        "ROOT = \"/content/drive/MyDrive/Colab Notebooks\""
      ]
    },
    {
      "cell_type": "code",
      "source": [
        "import os\n",
        "os.chdir(ROOT)\n",
        "os.getcwd()"
      ],
      "metadata": {
        "colab": {
          "base_uri": "https://localhost:8080/",
          "height": 36
        },
        "id": "YxVHXA2-oKXi",
        "outputId": "58ef122b-a35f-45ad-b12f-6ec0a6e68873"
      },
      "execution_count": 2,
      "outputs": [
        {
          "output_type": "execute_result",
          "data": {
            "text/plain": [
              "'/content/drive/MyDrive/Colab Notebooks'"
            ],
            "application/vnd.google.colaboratory.intrinsic+json": {
              "type": "string"
            }
          },
          "metadata": {},
          "execution_count": 2
        }
      ]
    },
    {
      "cell_type": "code",
      "source": [
        "import numpy as np\n",
        "import pandas as pd\n",
        "import matplotlib.pyplot as plt\n",
        "import seaborn as sns\n",
        "import tensorflow as tf\n",
        "plt.style.use('fivethirtyeight')\n",
        "%load_ext tensorboard"
      ],
      "metadata": {
        "id": "5u9c96AConAf"
      },
      "execution_count": 3,
      "outputs": []
    },
    {
      "cell_type": "code",
      "source": [
        "(x_train, y_train) , (x_test, y_test) = tf.keras.datasets.mnist.load_data()\n",
        "x_train = x_train/255.0\n",
        "x_test = x_test /255.0\n",
        "x_valid = x_train[:5000]\n",
        "x_train_full = x_train[5000:]\n",
        "y_valid = y_train[:5000]\n",
        "y_train_full = y_train[5000:]"
      ],
      "metadata": {
        "colab": {
          "base_uri": "https://localhost:8080/"
        },
        "id": "ovkxV6yYpHiR",
        "outputId": "4e321e19-d63f-4918-e77e-a8641df9b4fd"
      },
      "execution_count": 5,
      "outputs": [
        {
          "output_type": "stream",
          "name": "stdout",
          "text": [
            "Downloading data from https://storage.googleapis.com/tensorflow/tf-keras-datasets/mnist.npz\n",
            "11493376/11490434 [==============================] - 0s 0us/step\n",
            "11501568/11490434 [==============================] - 0s 0us/step\n"
          ]
        }
      ]
    },
    {
      "cell_type": "markdown",
      "source": [
        "traning model which we will use for transfer learning for below"
      ],
      "metadata": {
        "id": "nbpRES6E1fVZ"
      }
    },
    {
      "cell_type": "code",
      "source": [
        "tf.random.set_seed(42)\n",
        "np.random.seed(42)\n",
        "\n",
        "layers = [tf.keras.layers.Flatten( input_shape = [28, 28]),\n",
        "          tf.keras.layers.Dense(300, kernel_initializer= 'he_normal'),\n",
        "          tf.keras.layers.LeakyReLU(),\n",
        "          tf.keras.layers.Dense(100, kernel_initializer= 'he_normal'),\n",
        "          tf.keras.layers.LeakyReLU(),\n",
        "          tf.keras.layers.Dense(10, activation= 'softmax'),\n",
        "          ]\n",
        "model = tf.keras.models.Sequential(layers)"
      ],
      "metadata": {
        "id": "UUomMaxkpxsQ"
      },
      "execution_count": 7,
      "outputs": []
    },
    {
      "cell_type": "code",
      "source": [
        "model.compile(loss = 'sparse_categorical_crossentropy',\n",
        "              optimizer = tf.keras.optimizers.SGD(lr = 1e-3),\n",
        "              metrics = ['accuracy'])"
      ],
      "metadata": {
        "colab": {
          "base_uri": "https://localhost:8080/"
        },
        "id": "eVc_28U6q5ZK",
        "outputId": "3f582eab-787d-4a76-b61a-b91c279fbb4f"
      },
      "execution_count": 8,
      "outputs": [
        {
          "output_type": "stream",
          "name": "stderr",
          "text": [
            "/usr/local/lib/python3.7/dist-packages/keras/optimizer_v2/gradient_descent.py:102: UserWarning: The `lr` argument is deprecated, use `learning_rate` instead.\n",
            "  super(SGD, self).__init__(name, **kwargs)\n"
          ]
        }
      ]
    },
    {
      "cell_type": "code",
      "source": [
        "model.summary()"
      ],
      "metadata": {
        "colab": {
          "base_uri": "https://localhost:8080/"
        },
        "id": "wDC4LiiTrbOB",
        "outputId": "ac28da05-0c1f-4873-b111-17765fe91afa"
      },
      "execution_count": 9,
      "outputs": [
        {
          "output_type": "stream",
          "name": "stdout",
          "text": [
            "Model: \"sequential\"\n",
            "_________________________________________________________________\n",
            " Layer (type)                Output Shape              Param #   \n",
            "=================================================================\n",
            " flatten_1 (Flatten)         (None, 784)               0         \n",
            "                                                                 \n",
            " dense_3 (Dense)             (None, 300)               235500    \n",
            "                                                                 \n",
            " leaky_re_lu_2 (LeakyReLU)   (None, 300)               0         \n",
            "                                                                 \n",
            " dense_4 (Dense)             (None, 100)               30100     \n",
            "                                                                 \n",
            " leaky_re_lu_3 (LeakyReLU)   (None, 100)               0         \n",
            "                                                                 \n",
            " dense_5 (Dense)             (None, 10)                1010      \n",
            "                                                                 \n",
            "=================================================================\n",
            "Total params: 266,610\n",
            "Trainable params: 266,610\n",
            "Non-trainable params: 0\n",
            "_________________________________________________________________\n"
          ]
        }
      ]
    },
    {
      "cell_type": "code",
      "source": [
        "histry = model.fit(x_train, y_train, epochs = 10, validation_data = (x_valid, y_valid), verbose=2)"
      ],
      "metadata": {
        "colab": {
          "base_uri": "https://localhost:8080/"
        },
        "id": "Qo2y0M2vrkpx",
        "outputId": "21427442-3c72-43a0-c452-0c397f3794eb"
      },
      "execution_count": 10,
      "outputs": [
        {
          "output_type": "stream",
          "name": "stdout",
          "text": [
            "Epoch 1/10\n",
            "1875/1875 - 7s - loss: 1.4750 - accuracy: 0.6152 - val_loss: 0.8821 - val_accuracy: 0.8128 - 7s/epoch - 4ms/step\n",
            "Epoch 2/10\n",
            "1875/1875 - 4s - loss: 0.7026 - accuracy: 0.8362 - val_loss: 0.5542 - val_accuracy: 0.8700 - 4s/epoch - 2ms/step\n",
            "Epoch 3/10\n",
            "1875/1875 - 4s - loss: 0.5153 - accuracy: 0.8673 - val_loss: 0.4453 - val_accuracy: 0.8876 - 4s/epoch - 2ms/step\n",
            "Epoch 4/10\n",
            "1875/1875 - 4s - loss: 0.4403 - accuracy: 0.8820 - val_loss: 0.3936 - val_accuracy: 0.8968 - 4s/epoch - 2ms/step\n",
            "Epoch 5/10\n",
            "1875/1875 - 4s - loss: 0.3990 - accuracy: 0.8909 - val_loss: 0.3596 - val_accuracy: 0.9044 - 4s/epoch - 2ms/step\n",
            "Epoch 6/10\n",
            "1875/1875 - 5s - loss: 0.3721 - accuracy: 0.8963 - val_loss: 0.3376 - val_accuracy: 0.9100 - 5s/epoch - 2ms/step\n",
            "Epoch 7/10\n",
            "1875/1875 - 4s - loss: 0.3527 - accuracy: 0.9010 - val_loss: 0.3211 - val_accuracy: 0.9148 - 4s/epoch - 2ms/step\n",
            "Epoch 8/10\n",
            "1875/1875 - 5s - loss: 0.3378 - accuracy: 0.9050 - val_loss: 0.3080 - val_accuracy: 0.9162 - 5s/epoch - 3ms/step\n",
            "Epoch 9/10\n",
            "1875/1875 - 4s - loss: 0.3256 - accuracy: 0.9080 - val_loss: 0.2964 - val_accuracy: 0.9198 - 4s/epoch - 2ms/step\n",
            "Epoch 10/10\n",
            "1875/1875 - 5s - loss: 0.3156 - accuracy: 0.9107 - val_loss: 0.2873 - val_accuracy: 0.9220 - 5s/epoch - 3ms/step\n"
          ]
        }
      ]
    },
    {
      "cell_type": "code",
      "source": [
        "model.save('full_model_mnist.h5')"
      ],
      "metadata": {
        "id": "W2f2CWsdr-nr"
      },
      "execution_count": 11,
      "outputs": []
    },
    {
      "cell_type": "markdown",
      "source": [
        "Transfer_Learning"
      ],
      "metadata": {
        "id": "e7VeWb8FsfFi"
      }
    },
    {
      "cell_type": "code",
      "source": [
        "load_model = tf.keras.models.load_model('full_model_mnist.h5')"
      ],
      "metadata": {
        "id": "eWExnKp-sPm1"
      },
      "execution_count": 12,
      "outputs": []
    },
    {
      "cell_type": "code",
      "source": [
        "load_model.summary()"
      ],
      "metadata": {
        "colab": {
          "base_uri": "https://localhost:8080/"
        },
        "id": "QmkKgN17srQO",
        "outputId": "6ddf08bd-971a-40fb-f850-9deab41a1b70"
      },
      "execution_count": 13,
      "outputs": [
        {
          "output_type": "stream",
          "name": "stdout",
          "text": [
            "Model: \"sequential\"\n",
            "_________________________________________________________________\n",
            " Layer (type)                Output Shape              Param #   \n",
            "=================================================================\n",
            " flatten_1 (Flatten)         (None, 784)               0         \n",
            "                                                                 \n",
            " dense_3 (Dense)             (None, 300)               235500    \n",
            "                                                                 \n",
            " leaky_re_lu_2 (LeakyReLU)   (None, 300)               0         \n",
            "                                                                 \n",
            " dense_4 (Dense)             (None, 100)               30100     \n",
            "                                                                 \n",
            " leaky_re_lu_3 (LeakyReLU)   (None, 100)               0         \n",
            "                                                                 \n",
            " dense_5 (Dense)             (None, 10)                1010      \n",
            "                                                                 \n",
            "=================================================================\n",
            "Total params: 266,610\n",
            "Trainable params: 266,610\n",
            "Non-trainable params: 0\n",
            "_________________________________________________________________\n"
          ]
        }
      ]
    },
    {
      "cell_type": "code",
      "source": [
        "for layer in load_model.layers:\n",
        "  print('layer :', layer.name)"
      ],
      "metadata": {
        "colab": {
          "base_uri": "https://localhost:8080/"
        },
        "id": "b103TYGtswk7",
        "outputId": "417c31f5-12de-4297-9e1c-02a4f5daa776"
      },
      "execution_count": 15,
      "outputs": [
        {
          "output_type": "stream",
          "name": "stdout",
          "text": [
            "layer : flatten_1\n",
            "layer : dense_3\n",
            "layer : leaky_re_lu_2\n",
            "layer : dense_4\n",
            "layer : leaky_re_lu_3\n",
            "layer : dense_5\n"
          ]
        }
      ]
    },
    {
      "cell_type": "code",
      "source": [
        "for layer in load_model.layers[:-1]:\n",
        "  layer.trainable = False\n",
        "  print('layer :', layer.name ,    layer.trainable)"
      ],
      "metadata": {
        "colab": {
          "base_uri": "https://localhost:8080/"
        },
        "id": "WMptzkU6s53b",
        "outputId": "68bd3538-9ee8-48cb-f8dc-cd3f316f4a74"
      },
      "execution_count": 19,
      "outputs": [
        {
          "output_type": "stream",
          "name": "stdout",
          "text": [
            "layer : flatten_1 False\n",
            "layer : dense_3 False\n",
            "layer : leaky_re_lu_2 False\n",
            "layer : dense_4 False\n",
            "layer : leaky_re_lu_3 False\n"
          ]
        }
      ]
    },
    {
      "cell_type": "code",
      "source": [
        "lower_pretained_layers = load_model.layers[:-1]\n",
        "new_model = tf.keras.models.Sequential(lower_pretained_layers)\n",
        "new_model.add(tf.keras.layers.Dense(2, activation = 'softmax'))"
      ],
      "metadata": {
        "id": "wrDFvY6NtTwS"
      },
      "execution_count": 23,
      "outputs": []
    },
    {
      "cell_type": "code",
      "source": [
        "new_model.summary()"
      ],
      "metadata": {
        "colab": {
          "base_uri": "https://localhost:8080/"
        },
        "id": "R_8c7lK_uC9f",
        "outputId": "970e3a49-a7b0-4a5f-83e9-decaafcd5bfd"
      },
      "execution_count": 24,
      "outputs": [
        {
          "output_type": "stream",
          "name": "stdout",
          "text": [
            "Model: \"sequential_1\"\n",
            "_________________________________________________________________\n",
            " Layer (type)                Output Shape              Param #   \n",
            "=================================================================\n",
            " flatten_1 (Flatten)         (None, 784)               0         \n",
            "                                                                 \n",
            " dense_3 (Dense)             (None, 300)               235500    \n",
            "                                                                 \n",
            " leaky_re_lu_2 (LeakyReLU)   (None, 300)               0         \n",
            "                                                                 \n",
            " dense_4 (Dense)             (None, 100)               30100     \n",
            "                                                                 \n",
            " leaky_re_lu_3 (LeakyReLU)   (None, 100)               0         \n",
            "                                                                 \n",
            " dense_6 (Dense)             (None, 2)                 202       \n",
            "                                                                 \n",
            "=================================================================\n",
            "Total params: 265,802\n",
            "Trainable params: 202\n",
            "Non-trainable params: 265,600\n",
            "_________________________________________________________________\n"
          ]
        }
      ]
    },
    {
      "cell_type": "markdown",
      "source": [
        ""
      ],
      "metadata": {
        "id": "AlHMntJlu8sA"
      }
    },
    {
      "cell_type": "markdown",
      "source": [
        "here we have taken previous models pre trained layers here as a transfer laerning to reduce computation"
      ],
      "metadata": {
        "id": "tU5HN5jCu-Uo"
      }
    },
    {
      "cell_type": "code",
      "source": [
        "np.unique(y_train)"
      ],
      "metadata": {
        "colab": {
          "base_uri": "https://localhost:8080/"
        },
        "id": "RN4Q86pguTTc",
        "outputId": "3fb01da6-0f08-4a65-9429-cffc8889047c"
      },
      "execution_count": 25,
      "outputs": [
        {
          "output_type": "execute_result",
          "data": {
            "text/plain": [
              "array([0, 1, 2, 3, 4, 5, 6, 7, 8, 9], dtype=uint8)"
            ]
          },
          "metadata": {},
          "execution_count": 25
        }
      ]
    },
    {
      "cell_type": "markdown",
      "source": [
        "y dataset has converted into binary"
      ],
      "metadata": {
        "id": "PIkygfqE1WFs"
      }
    },
    {
      "cell_type": "code",
      "source": [
        "def update_enev_odd(labels):\n",
        "  for i , j in enumerate(labels):\n",
        "    labels[i] = np.where(j % 2 == 0, 1, 0)\n",
        "  return labels"
      ],
      "metadata": {
        "id": "De5nEn8QxKkP"
      },
      "execution_count": 27,
      "outputs": []
    },
    {
      "cell_type": "code",
      "source": [
        "y_train_bin, y_test_bin, y_valid_bin = update_enev_odd([y_train, y_test, y_valid])"
      ],
      "metadata": {
        "id": "eSEqfjUMyhAY"
      },
      "execution_count": 29,
      "outputs": []
    },
    {
      "cell_type": "code",
      "source": [
        "new_model.compile(loss = 'sparse_categorical_crossentropy',\n",
        "              optimizer = tf.keras.optimizers.SGD(lr = 1e-3),\n",
        "              metrics = ['accuracy'])"
      ],
      "metadata": {
        "colab": {
          "base_uri": "https://localhost:8080/"
        },
        "id": "JPX0joS5zpT3",
        "outputId": "9c835878-48df-4285-d3f9-04f6c99e9344"
      },
      "execution_count": 31,
      "outputs": [
        {
          "output_type": "stream",
          "name": "stderr",
          "text": [
            "/usr/local/lib/python3.7/dist-packages/keras/optimizer_v2/gradient_descent.py:102: UserWarning: The `lr` argument is deprecated, use `learning_rate` instead.\n",
            "  super(SGD, self).__init__(name, **kwargs)\n"
          ]
        }
      ]
    },
    {
      "cell_type": "code",
      "source": [
        "np.unique(y_train_bin)"
      ],
      "metadata": {
        "colab": {
          "base_uri": "https://localhost:8080/"
        },
        "id": "cKcYGupCyzfg",
        "outputId": "37604d01-9bb9-4c57-e7be-1475edf60afd"
      },
      "execution_count": 32,
      "outputs": [
        {
          "output_type": "execute_result",
          "data": {
            "text/plain": [
              "array([0, 1])"
            ]
          },
          "metadata": {},
          "execution_count": 32
        }
      ]
    },
    {
      "cell_type": "code",
      "source": [
        "new_history = new_model.fit(x_train, y_train_bin, epochs = 10, \n",
        "                            validation_data = (x_valid, y_valid_bin), verbose =2)"
      ],
      "metadata": {
        "colab": {
          "base_uri": "https://localhost:8080/"
        },
        "id": "pgdEVAamy8yI",
        "outputId": "0a2161af-8cd0-4f1b-d887-3d3decff1522"
      },
      "execution_count": 33,
      "outputs": [
        {
          "output_type": "stream",
          "name": "stdout",
          "text": [
            "Epoch 1/10\n",
            "1875/1875 - 5s - loss: 0.3820 - accuracy: 0.8348 - val_loss: 0.3185 - val_accuracy: 0.8698 - 5s/epoch - 3ms/step\n",
            "Epoch 2/10\n",
            "1875/1875 - 4s - loss: 0.3244 - accuracy: 0.8624 - val_loss: 0.3004 - val_accuracy: 0.8772 - 4s/epoch - 2ms/step\n",
            "Epoch 3/10\n",
            "1875/1875 - 4s - loss: 0.3108 - accuracy: 0.8692 - val_loss: 0.2896 - val_accuracy: 0.8824 - 4s/epoch - 2ms/step\n",
            "Epoch 4/10\n",
            "1875/1875 - 4s - loss: 0.3026 - accuracy: 0.8732 - val_loss: 0.2843 - val_accuracy: 0.8850 - 4s/epoch - 2ms/step\n",
            "Epoch 5/10\n",
            "1875/1875 - 4s - loss: 0.2967 - accuracy: 0.8763 - val_loss: 0.2780 - val_accuracy: 0.8882 - 4s/epoch - 2ms/step\n",
            "Epoch 6/10\n",
            "1875/1875 - 4s - loss: 0.2920 - accuracy: 0.8782 - val_loss: 0.2732 - val_accuracy: 0.8884 - 4s/epoch - 2ms/step\n",
            "Epoch 7/10\n",
            "1875/1875 - 4s - loss: 0.2881 - accuracy: 0.8801 - val_loss: 0.2698 - val_accuracy: 0.8904 - 4s/epoch - 2ms/step\n",
            "Epoch 8/10\n",
            "1875/1875 - 4s - loss: 0.2847 - accuracy: 0.8817 - val_loss: 0.2674 - val_accuracy: 0.8926 - 4s/epoch - 2ms/step\n",
            "Epoch 9/10\n",
            "1875/1875 - 4s - loss: 0.2816 - accuracy: 0.8837 - val_loss: 0.2637 - val_accuracy: 0.8934 - 4s/epoch - 2ms/step\n",
            "Epoch 10/10\n",
            "1875/1875 - 4s - loss: 0.2791 - accuracy: 0.8844 - val_loss: 0.2611 - val_accuracy: 0.8968 - 4s/epoch - 2ms/step\n"
          ]
        }
      ]
    },
    {
      "cell_type": "code",
      "source": [
        "new_model.compile(loss = 'sparse_categorical_crossentropy',\n",
        "              optimizer = tf.keras.optimizers.SGD(lr = 1e-3),\n",
        "              metrics = ['accuracy'])"
      ],
      "metadata": {
        "colab": {
          "base_uri": "https://localhost:8080/"
        },
        "id": "Fr9ZzeoO5jNe",
        "outputId": "5f127f7b-94e8-47dd-cc27-a83fb1c2a379"
      },
      "execution_count": 50,
      "outputs": [
        {
          "output_type": "stream",
          "name": "stderr",
          "text": [
            "/usr/local/lib/python3.7/dist-packages/keras/optimizer_v2/gradient_descent.py:102: UserWarning: The `lr` argument is deprecated, use `learning_rate` instead.\n",
            "  super(SGD, self).__init__(name, **kwargs)\n"
          ]
        }
      ]
    },
    {
      "cell_type": "markdown",
      "source": [
        "prediction"
      ],
      "metadata": {
        "id": "0DUPZqcb2HtH"
      }
    },
    {
      "cell_type": "code",
      "source": [
        "x_new = x_test[:3]\n",
        "\n",
        "y_test[:3], y_test_bin[:3]"
      ],
      "metadata": {
        "colab": {
          "base_uri": "https://localhost:8080/"
        },
        "id": "j7WR1wzvzxgC",
        "outputId": "2148695d-053c-4525-d32c-e2625dc64825"
      },
      "execution_count": 51,
      "outputs": [
        {
          "output_type": "execute_result",
          "data": {
            "text/plain": [
              "(array([7, 2, 1], dtype=uint8), array([0, 1, 0]))"
            ]
          },
          "metadata": {},
          "execution_count": 51
        }
      ]
    },
    {
      "cell_type": "code",
      "source": [
        "np.argmax(new_model.predict(x_new), axis=1)"
      ],
      "metadata": {
        "colab": {
          "base_uri": "https://localhost:8080/"
        },
        "id": "7T1lkFGT1wRz",
        "outputId": "5eec8797-c8a7-449c-e4d3-c9c05369beb5"
      },
      "execution_count": 38,
      "outputs": [
        {
          "output_type": "execute_result",
          "data": {
            "text/plain": [
              "array([0, 1, 0])"
            ]
          },
          "metadata": {},
          "execution_count": 38
        }
      ]
    },
    {
      "cell_type": "markdown",
      "source": [
        "applying transfer learning by converting y dataset in binary by condition if i > 5 then return 1 otherwise i =0"
      ],
      "metadata": {
        "id": "av9CG7_l8im3"
      }
    },
    {
      "cell_type": "code",
      "source": [
        "def new_data(lab):\n",
        "  for i, j in enumerate(lab):\n",
        "    lab[i] = np.where(j > 5, 1, 0)\n",
        "  return lab\n",
        "y_train_five, y_test_five, y_valid_five = new_data([y_train, y_test, y_valid])"
      ],
      "metadata": {
        "id": "5waDeuIP2FnG"
      },
      "execution_count": 44,
      "outputs": []
    },
    {
      "cell_type": "code",
      "source": [
        "np.unique(y_test_five)"
      ],
      "metadata": {
        "colab": {
          "base_uri": "https://localhost:8080/"
        },
        "id": "tEqSFMaL802T",
        "outputId": "afd605e0-4451-4d72-be8d-981aac59d306"
      },
      "execution_count": 69,
      "outputs": [
        {
          "output_type": "execute_result",
          "data": {
            "text/plain": [
              "array([0, 1])"
            ]
          },
          "metadata": {},
          "execution_count": 69
        }
      ]
    },
    {
      "cell_type": "markdown",
      "source": [
        "useing transfer learining"
      ],
      "metadata": {
        "id": "fXJ57JqH86Jv"
      }
    },
    {
      "cell_type": "code",
      "source": [
        "lower_pretained_layers = load_model.layers[:-1]\n",
        "new_model_five = tf.keras.models.Sequential(lower_pretained_layers)\n",
        "new_model_five.add(tf.keras.layers.Dense(1, activation = 'sigmoid'))"
      ],
      "metadata": {
        "id": "d_JD6n0z7i7g"
      },
      "execution_count": 58,
      "outputs": []
    },
    {
      "cell_type": "markdown",
      "source": [
        "compiling model"
      ],
      "metadata": {
        "id": "CyQ3sRHv8-dr"
      }
    },
    {
      "cell_type": "code",
      "source": [
        "new_model_five.compile(loss = 'binary_crossentropy',\n",
        "              optimizer = tf.keras.optimizers.SGD(lr = 1e-3),\n",
        "              metrics = ['accuracy'])"
      ],
      "metadata": {
        "colab": {
          "base_uri": "https://localhost:8080/"
        },
        "id": "NDOqa0pi7xSg",
        "outputId": "bee5097c-3e60-4047-f42e-248fac4f20f8"
      },
      "execution_count": 61,
      "outputs": [
        {
          "output_type": "stream",
          "name": "stderr",
          "text": [
            "/usr/local/lib/python3.7/dist-packages/keras/optimizer_v2/gradient_descent.py:102: UserWarning: The `lr` argument is deprecated, use `learning_rate` instead.\n",
            "  super(SGD, self).__init__(name, **kwargs)\n"
          ]
        }
      ]
    },
    {
      "cell_type": "markdown",
      "source": [
        "traning the model"
      ],
      "metadata": {
        "id": "yrOqn1-N9Cxg"
      }
    },
    {
      "cell_type": "code",
      "source": [
        "new_history = new_model_five.fit(x_train, y_train_five, epochs = 10, \n",
        "                            validation_data = (x_valid, y_valid_five), verbose =2)"
      ],
      "metadata": {
        "colab": {
          "base_uri": "https://localhost:8080/"
        },
        "id": "3za2xbxD5QRy",
        "outputId": "e8e3a0c6-b6d0-4a0b-b542-f1500f7dbf80"
      },
      "execution_count": 62,
      "outputs": [
        {
          "output_type": "stream",
          "name": "stdout",
          "text": [
            "Epoch 1/10\n",
            "1875/1875 - 5s - loss: 0.5599 - accuracy: 0.7303 - val_loss: 0.4901 - val_accuracy: 0.7852 - 5s/epoch - 3ms/step\n",
            "Epoch 2/10\n",
            "1875/1875 - 4s - loss: 0.4651 - accuracy: 0.7969 - val_loss: 0.4367 - val_accuracy: 0.8116 - 4s/epoch - 2ms/step\n",
            "Epoch 3/10\n",
            "1875/1875 - 4s - loss: 0.4277 - accuracy: 0.8212 - val_loss: 0.4057 - val_accuracy: 0.8300 - 4s/epoch - 2ms/step\n",
            "Epoch 4/10\n",
            "1875/1875 - 4s - loss: 0.4047 - accuracy: 0.8340 - val_loss: 0.3848 - val_accuracy: 0.8438 - 4s/epoch - 2ms/step\n",
            "Epoch 5/10\n",
            "1875/1875 - 4s - loss: 0.3890 - accuracy: 0.8429 - val_loss: 0.3702 - val_accuracy: 0.8482 - 4s/epoch - 2ms/step\n",
            "Epoch 6/10\n",
            "1875/1875 - 4s - loss: 0.3773 - accuracy: 0.8481 - val_loss: 0.3594 - val_accuracy: 0.8544 - 4s/epoch - 2ms/step\n",
            "Epoch 7/10\n",
            "1875/1875 - 4s - loss: 0.3683 - accuracy: 0.8529 - val_loss: 0.3506 - val_accuracy: 0.8584 - 4s/epoch - 2ms/step\n",
            "Epoch 8/10\n",
            "1875/1875 - 4s - loss: 0.3611 - accuracy: 0.8561 - val_loss: 0.3432 - val_accuracy: 0.8618 - 4s/epoch - 2ms/step\n",
            "Epoch 9/10\n",
            "1875/1875 - 5s - loss: 0.3551 - accuracy: 0.8589 - val_loss: 0.3372 - val_accuracy: 0.8642 - 5s/epoch - 2ms/step\n",
            "Epoch 10/10\n",
            "1875/1875 - 5s - loss: 0.3500 - accuracy: 0.8607 - val_loss: 0.3324 - val_accuracy: 0.8678 - 5s/epoch - 2ms/step\n"
          ]
        }
      ]
    },
    {
      "cell_type": "code",
      "source": [
        "x_five = x_test[:3]\n",
        "\n",
        "y_test[:10], y_test_five[:10]"
      ],
      "metadata": {
        "colab": {
          "base_uri": "https://localhost:8080/"
        },
        "id": "6MXDp06m3o39",
        "outputId": "05713bf6-169f-4329-f583-7c8bed9851b7"
      },
      "execution_count": 67,
      "outputs": [
        {
          "output_type": "execute_result",
          "data": {
            "text/plain": [
              "(array([7, 2, 1, 0, 4, 1, 4, 9, 5, 9], dtype=uint8),\n",
              " array([1, 0, 0, 0, 0, 0, 0, 1, 0, 1]))"
            ]
          },
          "metadata": {},
          "execution_count": 67
        }
      ]
    },
    {
      "cell_type": "code",
      "source": [
        "np.round(new_model.predict(x_five))"
      ],
      "metadata": {
        "colab": {
          "base_uri": "https://localhost:8080/"
        },
        "id": "ljfweR4H37W4",
        "outputId": "bbdfba0b-d069-4c30-f781-b8c3321d4f1c"
      },
      "execution_count": 68,
      "outputs": [
        {
          "output_type": "execute_result",
          "data": {
            "text/plain": [
              "array([[0., 1.],\n",
              "       [1., 0.],\n",
              "       [1., 0.]], dtype=float32)"
            ]
          },
          "metadata": {},
          "execution_count": 68
        }
      ]
    },
    {
      "cell_type": "code",
      "source": [
        ""
      ],
      "metadata": {
        "id": "euOtSU6t4bI-"
      },
      "execution_count": null,
      "outputs": []
    }
  ]
}