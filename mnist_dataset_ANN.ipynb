{
  "nbformat": 4,
  "nbformat_minor": 0,
  "metadata": {
    "colab": {
      "name": "mnist_dataset_ANN.ipynb",
      "provenance": [],
      "collapsed_sections": []
    },
    "kernelspec": {
      "name": "python3",
      "display_name": "Python 3"
    },
    "language_info": {
      "name": "python"
    },
    "accelerator": "GPU"
  },
  "cells": [
    {
      "cell_type": "code",
      "execution_count": 1,
      "metadata": {
        "id": "86mUHicqD9IX"
      },
      "outputs": [],
      "source": [
        "ROOT = \"/content/drive/MyDrive/Colab Notebooks\""
      ]
    },
    {
      "cell_type": "code",
      "source": [
        "import os\n",
        "os.chdir(ROOT)\n",
        "os.getcwd()"
      ],
      "metadata": {
        "colab": {
          "base_uri": "https://localhost:8080/",
          "height": 36
        },
        "id": "wVF1XPVpEAxm",
        "outputId": "23c9ecdd-d2df-43fc-a3c8-96f1d6e452f0"
      },
      "execution_count": 2,
      "outputs": [
        {
          "output_type": "execute_result",
          "data": {
            "text/plain": [
              "'/content/drive/MyDrive/Colab Notebooks'"
            ],
            "application/vnd.google.colaboratory.intrinsic+json": {
              "type": "string"
            }
          },
          "metadata": {},
          "execution_count": 2
        }
      ]
    },
    {
      "cell_type": "code",
      "source": [
        "import tensorflow as tf"
      ],
      "metadata": {
        "id": "YoKHsZEqEISx"
      },
      "execution_count": 3,
      "outputs": []
    },
    {
      "cell_type": "code",
      "source": [
        "tf.__version__"
      ],
      "metadata": {
        "colab": {
          "base_uri": "https://localhost:8080/",
          "height": 36
        },
        "id": "3RRMPjD-ETHg",
        "outputId": "a34a7b09-cd0e-45b0-9c0b-3fc355b628cd"
      },
      "execution_count": 4,
      "outputs": [
        {
          "output_type": "execute_result",
          "data": {
            "text/plain": [
              "'2.8.0'"
            ],
            "application/vnd.google.colaboratory.intrinsic+json": {
              "type": "string"
            }
          },
          "metadata": {},
          "execution_count": 4
        }
      ]
    },
    {
      "cell_type": "code",
      "source": [
        "tf.keras.__version__"
      ],
      "metadata": {
        "colab": {
          "base_uri": "https://localhost:8080/",
          "height": 36
        },
        "id": "CF9IfS9pEVri",
        "outputId": "93c0741c-e177-4e96-e291-efdf01550fb6"
      },
      "execution_count": 5,
      "outputs": [
        {
          "output_type": "execute_result",
          "data": {
            "text/plain": [
              "'2.8.0'"
            ],
            "application/vnd.google.colaboratory.intrinsic+json": {
              "type": "string"
            }
          },
          "metadata": {},
          "execution_count": 5
        }
      ]
    },
    {
      "cell_type": "code",
      "source": [
        "tf.config.list_physical_devices(\"GPU\")"
      ],
      "metadata": {
        "colab": {
          "base_uri": "https://localhost:8080/"
        },
        "id": "pkrt7GnrEYwQ",
        "outputId": "90a39132-479d-4876-db32-2abd87b7b94f"
      },
      "execution_count": 6,
      "outputs": [
        {
          "output_type": "execute_result",
          "data": {
            "text/plain": [
              "[PhysicalDevice(name='/physical_device:GPU:0', device_type='GPU')]"
            ]
          },
          "metadata": {},
          "execution_count": 6
        }
      ]
    },
    {
      "cell_type": "code",
      "source": [
        "tf.config.list_physical_devices(\"CPU\")"
      ],
      "metadata": {
        "colab": {
          "base_uri": "https://localhost:8080/"
        },
        "id": "gFSUZVXfErAT",
        "outputId": "03f61e12-f8c2-434b-b211-ad45efbc9bba"
      },
      "execution_count": 7,
      "outputs": [
        {
          "output_type": "execute_result",
          "data": {
            "text/plain": [
              "[PhysicalDevice(name='/physical_device:CPU:0', device_type='CPU')]"
            ]
          },
          "metadata": {},
          "execution_count": 7
        }
      ]
    },
    {
      "cell_type": "code",
      "source": [
        "checklist = [\"GPU\", \"CPU\"]\n",
        "\n",
        "for device in checklist:\n",
        "  out = tf.config.list_physical_devices(device)\n",
        "  if len(out) > 0:\n",
        "    print('device is available :',device)\n",
        "    print('details :', out)\n",
        "  else:\n",
        "    print('device is not available :', device)"
      ],
      "metadata": {
        "colab": {
          "base_uri": "https://localhost:8080/"
        },
        "id": "MUMvN5fkEu2a",
        "outputId": "20e7bed8-83ab-4897-a419-894576121173"
      },
      "execution_count": 8,
      "outputs": [
        {
          "output_type": "stream",
          "name": "stdout",
          "text": [
            "device is available : GPU\n",
            "details : [PhysicalDevice(name='/physical_device:GPU:0', device_type='GPU')]\n",
            "device is available : CPU\n",
            "details : [PhysicalDevice(name='/physical_device:CPU:0', device_type='CPU')]\n"
          ]
        }
      ]
    },
    {
      "cell_type": "code",
      "source": [
        "import numpy as np\n",
        "import pandas as pd\n",
        "import matplotlib.pyplot as plt"
      ],
      "metadata": {
        "id": "-H_SuxpDFanq"
      },
      "execution_count": 9,
      "outputs": []
    },
    {
      "cell_type": "code",
      "source": [
        "mnist = tf.keras.datasets.mnist\n",
        "\n",
        "(x_train, y_train), (x_test, y_test) = mnist.load_data()"
      ],
      "metadata": {
        "colab": {
          "base_uri": "https://localhost:8080/"
        },
        "id": "iPse6qlDFoqU",
        "outputId": "ea352cdd-4f2f-42a0-989c-f98c187b8d11"
      },
      "execution_count": 10,
      "outputs": [
        {
          "output_type": "stream",
          "name": "stdout",
          "text": [
            "Downloading data from https://storage.googleapis.com/tensorflow/tf-keras-datasets/mnist.npz\n",
            "11493376/11490434 [==============================] - 0s 0us/step\n",
            "11501568/11490434 [==============================] - 0s 0us/step\n"
          ]
        }
      ]
    },
    {
      "cell_type": "code",
      "source": [
        "x_train.shape"
      ],
      "metadata": {
        "colab": {
          "base_uri": "https://localhost:8080/"
        },
        "id": "-dJzcvaiGPPy",
        "outputId": "1c63ced9-e535-446c-e7bd-11b89c6f0885"
      },
      "execution_count": 11,
      "outputs": [
        {
          "output_type": "execute_result",
          "data": {
            "text/plain": [
              "(60000, 28, 28)"
            ]
          },
          "metadata": {},
          "execution_count": 11
        }
      ]
    },
    {
      "cell_type": "code",
      "source": [
        "y_train.shape"
      ],
      "metadata": {
        "colab": {
          "base_uri": "https://localhost:8080/"
        },
        "id": "S9p3XnAGGZTx",
        "outputId": "4611de4c-2631-423c-f7db-1a52777e0ed7"
      },
      "execution_count": 12,
      "outputs": [
        {
          "output_type": "execute_result",
          "data": {
            "text/plain": [
              "(60000,)"
            ]
          },
          "metadata": {},
          "execution_count": 12
        }
      ]
    },
    {
      "cell_type": "code",
      "source": [
        "x_test.shape"
      ],
      "metadata": {
        "colab": {
          "base_uri": "https://localhost:8080/"
        },
        "id": "FNeAtourGa0B",
        "outputId": "791c406b-cc2a-41b6-faa7-ae13165abead"
      },
      "execution_count": 13,
      "outputs": [
        {
          "output_type": "execute_result",
          "data": {
            "text/plain": [
              "(10000, 28, 28)"
            ]
          },
          "metadata": {},
          "execution_count": 13
        }
      ]
    },
    {
      "cell_type": "code",
      "source": [
        "y_test.shape"
      ],
      "metadata": {
        "colab": {
          "base_uri": "https://localhost:8080/"
        },
        "id": "_EEJppM-Gcpx",
        "outputId": "f98276cd-664a-44b9-eb91-b8bcd6ee6ef3"
      },
      "execution_count": 14,
      "outputs": [
        {
          "output_type": "execute_result",
          "data": {
            "text/plain": [
              "(10000,)"
            ]
          },
          "metadata": {},
          "execution_count": 14
        }
      ]
    },
    {
      "cell_type": "code",
      "source": [
        "x_train.dtype"
      ],
      "metadata": {
        "colab": {
          "base_uri": "https://localhost:8080/"
        },
        "id": "ri4OsZzFGeUi",
        "outputId": "97031445-f45f-4e94-ec4a-bdfb71b0286b"
      },
      "execution_count": 15,
      "outputs": [
        {
          "output_type": "execute_result",
          "data": {
            "text/plain": [
              "dtype('uint8')"
            ]
          },
          "metadata": {},
          "execution_count": 15
        }
      ]
    },
    {
      "cell_type": "code",
      "source": [
        "x_train_full = x_train[5000:]/ 255.0\n",
        "x_validation = x_train[:5000]/ 255.0\n",
        "y_train_full = y_train[5000:]\n",
        "y_validation = y_train[:5000]\n",
        "x_test = x_test /255.0"
      ],
      "metadata": {
        "id": "6hCbK1yTHL0K"
      },
      "execution_count": 24,
      "outputs": []
    },
    {
      "cell_type": "code",
      "source": [
        "plt.imshow(x_train_full[10])\n",
        "plt.axis('off')\n",
        "plt.show()"
      ],
      "metadata": {
        "colab": {
          "base_uri": "https://localhost:8080/",
          "height": 248
        },
        "id": "PdvYKVKLIoAX",
        "outputId": "bbf13fcb-9257-4b9c-e56e-278f33b17324"
      },
      "execution_count": 17,
      "outputs": [
        {
          "output_type": "display_data",
          "data": {
            "text/plain": [
              "<Figure size 432x288 with 1 Axes>"
            ],
            "image/png": "[encoded data removed]"
          },
          "metadata": {
            "needs_background": "light"
          }
        }
      ]
    },
    {
      "cell_type": "code",
      "source": [
        "import seaborn as sns\n",
        "plt.figure(figsize = (25,25))\n",
        "sns.heatmap(x_train_full[0], annot=True, cmap = 'binary')"
      ],
      "metadata": {
        "colab": {
          "base_uri": "https://localhost:8080/",
          "height": 724
        },
        "id": "00wqEaKLIxTR",
        "outputId": "7f0968ca-8b9e-430d-c2d4-c04c0fa288e2"
      },
      "execution_count": 18,
      "outputs": [
        {
          "output_type": "execute_result",
          "data": {
            "text/plain": [
              "<matplotlib.axes._subplots.AxesSubplot at 0x7fb951c591d0>"
            ]
          },
          "metadata": {},
          "execution_count": 18
        },
        {
          "output_type": "display_data",
          "data": {
            "text/plain": [
              "<Figure size 1800x1800 with 2 Axes>"
            ],
            "image/png": "[encoded data removed]"
          },
          "metadata": {
            "needs_background": "light"
          }
        }
      ]
    },
    {
      "cell_type": "code",
      "source": [
        "import seaborn as sns\n",
        "plt.figure(figsize = (25,25))\n",
        "sns.heatmap(x_train_full[0], annot=True, cmap = 'binary')"
      ],
      "metadata": {
        "colab": {
          "base_uri": "https://localhost:8080/",
          "height": 724
        },
        "id": "THzcze9HJeV_",
        "outputId": "28a91488-5658-456f-d117-e7ec70b4469f"
      },
      "execution_count": 27,
      "outputs": [
        {
          "output_type": "execute_result",
          "data": {
            "text/plain": [
              "<matplotlib.axes._subplots.AxesSubplot at 0x7fb8ca758ad0>"
            ]
          },
          "metadata": {},
          "execution_count": 27
        },
        {
          "output_type": "display_data",
          "data": {
            "text/plain": [
              "<Figure size 1800x1800 with 2 Axes>"
            ],
            "image/png": "[encoded data removed]"
          },
          "metadata": {
            "needs_background": "light"
          }
        }
      ]
    },
    {
      "cell_type": "code",
      "source": [
        "layers = [tf.keras.layers.Flatten(input_shape = [28,28], name ='inputlayer'),\n",
        "         tf.keras.layers.Dense(300, activation = 'relu', name ='hiddenlayer1'),\n",
        "         tf.keras.layers.Dense(100, activation = 'relu', name ='hiddenlayer2'),\n",
        "         tf.keras.layers.Dense(10,  activation = 'softmax', name ='outputlayer')]"
      ],
      "metadata": {
        "id": "3dRU4JjLJqSl"
      },
      "execution_count": 20,
      "outputs": []
    },
    {
      "cell_type": "code",
      "source": [
        "model_clf = tf.keras.models.Sequential(layers)"
      ],
      "metadata": {
        "id": "HYf3Cm2FLo5R"
      },
      "execution_count": 21,
      "outputs": []
    },
    {
      "cell_type": "code",
      "source": [
        "model_clf.layers"
      ],
      "metadata": {
        "colab": {
          "base_uri": "https://localhost:8080/"
        },
        "id": "Yf4Uk2BdMDKH",
        "outputId": "d4a518be-5592-4600-8d68-e64cedacb190"
      },
      "execution_count": 22,
      "outputs": [
        {
          "output_type": "execute_result",
          "data": {
            "text/plain": [
              "[<keras.layers.core.flatten.Flatten at 0x7fb9506f1a90>,\n",
              " <keras.layers.core.dense.Dense at 0x7fb9505d67d0>,\n",
              " <keras.layers.core.dense.Dense at 0x7fb951c6add0>,\n",
              " <keras.layers.core.dense.Dense at 0x7fb8e2f57410>]"
            ]
          },
          "metadata": {},
          "execution_count": 22
        }
      ]
    },
    {
      "cell_type": "code",
      "source": [
        "model_clf.summary()"
      ],
      "metadata": {
        "colab": {
          "base_uri": "https://localhost:8080/"
        },
        "id": "YjRsxal7MTFX",
        "outputId": "310503a7-7a56-4d5b-cb1e-0576b95dfbee"
      },
      "execution_count": 23,
      "outputs": [
        {
          "output_type": "stream",
          "name": "stdout",
          "text": [
            "Model: \"sequential\"\n",
            "_________________________________________________________________\n",
            " Layer (type)                Output Shape              Param #   \n",
            "=================================================================\n",
            " inputlayer (Flatten)        (None, 784)               0         \n",
            "                                                                 \n",
            " hiddenlayer1 (Dense)        (None, 300)               235500    \n",
            "                                                                 \n",
            " hiddenlayer2 (Dense)        (None, 100)               30100     \n",
            "                                                                 \n",
            " outputlayer (Dense)         (None, 10)                1010      \n",
            "                                                                 \n",
            "=================================================================\n",
            "Total params: 266,610\n",
            "Trainable params: 266,610\n",
            "Non-trainable params: 0\n",
            "_________________________________________________________________\n"
          ]
        }
      ]
    },
    {
      "cell_type": "code",
      "source": [
        "hidden1 = model_clf.layers[1]\n",
        "hidden1.name"
      ],
      "metadata": {
        "id": "WLVstHRpMWEJ",
        "colab": {
          "base_uri": "https://localhost:8080/",
          "height": 36
        },
        "outputId": "c2103529-a6f5-4874-9aca-087345f8aa16"
      },
      "execution_count": 29,
      "outputs": [
        {
          "output_type": "execute_result",
          "data": {
            "text/plain": [
              "'hiddenlayer1'"
            ],
            "application/vnd.google.colaboratory.intrinsic+json": {
              "type": "string"
            }
          },
          "metadata": {},
          "execution_count": 29
        }
      ]
    },
    {
      "cell_type": "code",
      "source": [
        "hidden1.get_weights()"
      ],
      "metadata": {
        "colab": {
          "base_uri": "https://localhost:8080/"
        },
        "id": "tnR21_XfGMpD",
        "outputId": "e75abc1f-a3b9-449a-90f6-a8b5d1d23395"
      },
      "execution_count": 30,
      "outputs": [
        {
          "output_type": "execute_result",
          "data": {
            "text/plain": [
              "[array([[ 0.02371624, -0.01439991, -0.05097712, ...,  0.0466778 ,\n",
              "         -0.00669056, -0.02737254],\n",
              "        [ 0.04619801,  0.06978942, -0.03655848, ..., -0.03720415,\n",
              "         -0.05823892, -0.01619505],\n",
              "        [ 0.0285837 , -0.00051027, -0.06387029, ...,  0.07083936,\n",
              "          0.05306102, -0.00262947],\n",
              "        ...,\n",
              "        [ 0.00022985,  0.03665552, -0.00336054, ..., -0.01201103,\n",
              "         -0.06951999, -0.01870093],\n",
              "        [ 0.05886774,  0.01747118,  0.06636   , ...,  0.00402651,\n",
              "         -0.00913017, -0.05848265],\n",
              "        [ 0.02584008, -0.0170393 , -0.05490166, ..., -0.06420489,\n",
              "          0.02202597,  0.06849375]], dtype=float32),\n",
              " array([0., 0., 0., 0., 0., 0., 0., 0., 0., 0., 0., 0., 0., 0., 0., 0., 0.,\n",
              "        0., 0., 0., 0., 0., 0., 0., 0., 0., 0., 0., 0., 0., 0., 0., 0., 0.,\n",
              "        0., 0., 0., 0., 0., 0., 0., 0., 0., 0., 0., 0., 0., 0., 0., 0., 0.,\n",
              "        0., 0., 0., 0., 0., 0., 0., 0., 0., 0., 0., 0., 0., 0., 0., 0., 0.,\n",
              "        0., 0., 0., 0., 0., 0., 0., 0., 0., 0., 0., 0., 0., 0., 0., 0., 0.,\n",
              "        0., 0., 0., 0., 0., 0., 0., 0., 0., 0., 0., 0., 0., 0., 0., 0., 0.,\n",
              "        0., 0., 0., 0., 0., 0., 0., 0., 0., 0., 0., 0., 0., 0., 0., 0., 0.,\n",
              "        0., 0., 0., 0., 0., 0., 0., 0., 0., 0., 0., 0., 0., 0., 0., 0., 0.,\n",
              "        0., 0., 0., 0., 0., 0., 0., 0., 0., 0., 0., 0., 0., 0., 0., 0., 0.,\n",
              "        0., 0., 0., 0., 0., 0., 0., 0., 0., 0., 0., 0., 0., 0., 0., 0., 0.,\n",
              "        0., 0., 0., 0., 0., 0., 0., 0., 0., 0., 0., 0., 0., 0., 0., 0., 0.,\n",
              "        0., 0., 0., 0., 0., 0., 0., 0., 0., 0., 0., 0., 0., 0., 0., 0., 0.,\n",
              "        0., 0., 0., 0., 0., 0., 0., 0., 0., 0., 0., 0., 0., 0., 0., 0., 0.,\n",
              "        0., 0., 0., 0., 0., 0., 0., 0., 0., 0., 0., 0., 0., 0., 0., 0., 0.,\n",
              "        0., 0., 0., 0., 0., 0., 0., 0., 0., 0., 0., 0., 0., 0., 0., 0., 0.,\n",
              "        0., 0., 0., 0., 0., 0., 0., 0., 0., 0., 0., 0., 0., 0., 0., 0., 0.,\n",
              "        0., 0., 0., 0., 0., 0., 0., 0., 0., 0., 0., 0., 0., 0., 0., 0., 0.,\n",
              "        0., 0., 0., 0., 0., 0., 0., 0., 0., 0., 0.], dtype=float32)]"
            ]
          },
          "metadata": {},
          "execution_count": 30
        }
      ]
    },
    {
      "cell_type": "code",
      "source": [
        "weights, biases = hidden1.get_weights()"
      ],
      "metadata": {
        "id": "nYdhDBZ5GXab"
      },
      "execution_count": 31,
      "outputs": []
    },
    {
      "cell_type": "code",
      "source": [
        "print( ' shape :', weights.shape , \"\\n\")\n",
        "\n",
        "weights"
      ],
      "metadata": {
        "colab": {
          "base_uri": "https://localhost:8080/"
        },
        "id": "Jtcf0FwOGfat",
        "outputId": "5d67d3db-748f-4827-db54-614271e799e7"
      },
      "execution_count": 32,
      "outputs": [
        {
          "output_type": "stream",
          "name": "stdout",
          "text": [
            " shape : (784, 300) \n",
            "\n"
          ]
        },
        {
          "output_type": "execute_result",
          "data": {
            "text/plain": [
              "array([[ 0.02371624, -0.01439991, -0.05097712, ...,  0.0466778 ,\n",
              "        -0.00669056, -0.02737254],\n",
              "       [ 0.04619801,  0.06978942, -0.03655848, ..., -0.03720415,\n",
              "        -0.05823892, -0.01619505],\n",
              "       [ 0.0285837 , -0.00051027, -0.06387029, ...,  0.07083936,\n",
              "         0.05306102, -0.00262947],\n",
              "       ...,\n",
              "       [ 0.00022985,  0.03665552, -0.00336054, ..., -0.01201103,\n",
              "        -0.06951999, -0.01870093],\n",
              "       [ 0.05886774,  0.01747118,  0.06636   , ...,  0.00402651,\n",
              "        -0.00913017, -0.05848265],\n",
              "       [ 0.02584008, -0.0170393 , -0.05490166, ..., -0.06420489,\n",
              "         0.02202597,  0.06849375]], dtype=float32)"
            ]
          },
          "metadata": {},
          "execution_count": 32
        }
      ]
    },
    {
      "cell_type": "code",
      "source": [
        "print( ' shape :', biases.shape , \"\\n\")\n",
        "\n",
        "biases"
      ],
      "metadata": {
        "colab": {
          "base_uri": "https://localhost:8080/"
        },
        "id": "1hTl81IbGowE",
        "outputId": "43858b8d-dac4-4bfd-9506-49f4b8d33269"
      },
      "execution_count": 33,
      "outputs": [
        {
          "output_type": "stream",
          "name": "stdout",
          "text": [
            " shape : (300,) \n",
            "\n"
          ]
        },
        {
          "output_type": "execute_result",
          "data": {
            "text/plain": [
              "array([0., 0., 0., 0., 0., 0., 0., 0., 0., 0., 0., 0., 0., 0., 0., 0., 0.,\n",
              "       0., 0., 0., 0., 0., 0., 0., 0., 0., 0., 0., 0., 0., 0., 0., 0., 0.,\n",
              "       0., 0., 0., 0., 0., 0., 0., 0., 0., 0., 0., 0., 0., 0., 0., 0., 0.,\n",
              "       0., 0., 0., 0., 0., 0., 0., 0., 0., 0., 0., 0., 0., 0., 0., 0., 0.,\n",
              "       0., 0., 0., 0., 0., 0., 0., 0., 0., 0., 0., 0., 0., 0., 0., 0., 0.,\n",
              "       0., 0., 0., 0., 0., 0., 0., 0., 0., 0., 0., 0., 0., 0., 0., 0., 0.,\n",
              "       0., 0., 0., 0., 0., 0., 0., 0., 0., 0., 0., 0., 0., 0., 0., 0., 0.,\n",
              "       0., 0., 0., 0., 0., 0., 0., 0., 0., 0., 0., 0., 0., 0., 0., 0., 0.,\n",
              "       0., 0., 0., 0., 0., 0., 0., 0., 0., 0., 0., 0., 0., 0., 0., 0., 0.,\n",
              "       0., 0., 0., 0., 0., 0., 0., 0., 0., 0., 0., 0., 0., 0., 0., 0., 0.,\n",
              "       0., 0., 0., 0., 0., 0., 0., 0., 0., 0., 0., 0., 0., 0., 0., 0., 0.,\n",
              "       0., 0., 0., 0., 0., 0., 0., 0., 0., 0., 0., 0., 0., 0., 0., 0., 0.,\n",
              "       0., 0., 0., 0., 0., 0., 0., 0., 0., 0., 0., 0., 0., 0., 0., 0., 0.,\n",
              "       0., 0., 0., 0., 0., 0., 0., 0., 0., 0., 0., 0., 0., 0., 0., 0., 0.,\n",
              "       0., 0., 0., 0., 0., 0., 0., 0., 0., 0., 0., 0., 0., 0., 0., 0., 0.,\n",
              "       0., 0., 0., 0., 0., 0., 0., 0., 0., 0., 0., 0., 0., 0., 0., 0., 0.,\n",
              "       0., 0., 0., 0., 0., 0., 0., 0., 0., 0., 0., 0., 0., 0., 0., 0., 0.,\n",
              "       0., 0., 0., 0., 0., 0., 0., 0., 0., 0., 0.], dtype=float32)"
            ]
          },
          "metadata": {},
          "execution_count": 33
        }
      ]
    },
    {
      "cell_type": "code",
      "source": [
        "model_clf.compile(loss = \"sparse_categorical_crossentropy\",\n",
        "                  optimizer = \"SGD\",\n",
        "                  metrics = [\"accuracy\"])"
      ],
      "metadata": {
        "id": "7_4Mi3FxGyQd"
      },
      "execution_count": 35,
      "outputs": []
    },
    {
      "cell_type": "code",
      "source": [
        "epochs = 30\n",
        "\n",
        "validatio_set = (x_validation, y_validation)\n",
        "\n",
        "history = model_clf.fit(x_train_full, y_train_full, epochs= epochs, validation_data = validatio_set)"
      ],
      "metadata": {
        "colab": {
          "base_uri": "https://localhost:8080/"
        },
        "id": "fcuvQ4B1HDu8",
        "outputId": "ebcca06d-886f-410f-afd7-0de460fe09d5"
      },
      "execution_count": 36,
      "outputs": [
        {
          "output_type": "stream",
          "name": "stdout",
          "text": [
            "Epoch 1/30\n",
            "1719/1719 [==============================] - 7s 3ms/step - loss: 0.6008 - accuracy: 0.8448 - val_loss: 0.3037 - val_accuracy: 0.9178\n",
            "Epoch 2/30\n",
            "1719/1719 [==============================] - 5s 3ms/step - loss: 0.2904 - accuracy: 0.9174 - val_loss: 0.2394 - val_accuracy: 0.9324\n",
            "Epoch 3/30\n",
            "1719/1719 [==============================] - 5s 3ms/step - loss: 0.2367 - accuracy: 0.9327 - val_loss: 0.2049 - val_accuracy: 0.9456\n",
            "Epoch 4/30\n",
            "1719/1719 [==============================] - 5s 3ms/step - loss: 0.2012 - accuracy: 0.9431 - val_loss: 0.1746 - val_accuracy: 0.9510\n",
            "Epoch 5/30\n",
            "1719/1719 [==============================] - 5s 3ms/step - loss: 0.1754 - accuracy: 0.9499 - val_loss: 0.1555 - val_accuracy: 0.9586\n",
            "Epoch 6/30\n",
            "1719/1719 [==============================] - 5s 3ms/step - loss: 0.1546 - accuracy: 0.9560 - val_loss: 0.1453 - val_accuracy: 0.9624\n",
            "Epoch 7/30\n",
            "1719/1719 [==============================] - 5s 3ms/step - loss: 0.1382 - accuracy: 0.9606 - val_loss: 0.1322 - val_accuracy: 0.9646\n",
            "Epoch 8/30\n",
            "1719/1719 [==============================] - 5s 3ms/step - loss: 0.1246 - accuracy: 0.9647 - val_loss: 0.1215 - val_accuracy: 0.9662\n",
            "Epoch 9/30\n",
            "1719/1719 [==============================] - 5s 3ms/step - loss: 0.1133 - accuracy: 0.9683 - val_loss: 0.1148 - val_accuracy: 0.9686\n",
            "Epoch 10/30\n",
            "1719/1719 [==============================] - 5s 3ms/step - loss: 0.1033 - accuracy: 0.9708 - val_loss: 0.1104 - val_accuracy: 0.9690\n",
            "Epoch 11/30\n",
            "1719/1719 [==============================] - 5s 3ms/step - loss: 0.0954 - accuracy: 0.9733 - val_loss: 0.1032 - val_accuracy: 0.9716\n",
            "Epoch 12/30\n",
            "1719/1719 [==============================] - 5s 3ms/step - loss: 0.0878 - accuracy: 0.9753 - val_loss: 0.0979 - val_accuracy: 0.9708\n",
            "Epoch 13/30\n",
            "1719/1719 [==============================] - 5s 3ms/step - loss: 0.0811 - accuracy: 0.9772 - val_loss: 0.0975 - val_accuracy: 0.9708\n",
            "Epoch 14/30\n",
            "1719/1719 [==============================] - 5s 3ms/step - loss: 0.0755 - accuracy: 0.9793 - val_loss: 0.0895 - val_accuracy: 0.9738\n",
            "Epoch 15/30\n",
            "1719/1719 [==============================] - 5s 3ms/step - loss: 0.0700 - accuracy: 0.9807 - val_loss: 0.0891 - val_accuracy: 0.9742\n",
            "Epoch 16/30\n",
            "1719/1719 [==============================] - 5s 3ms/step - loss: 0.0656 - accuracy: 0.9821 - val_loss: 0.0861 - val_accuracy: 0.9756\n",
            "Epoch 17/30\n",
            "1719/1719 [==============================] - 5s 3ms/step - loss: 0.0609 - accuracy: 0.9835 - val_loss: 0.0829 - val_accuracy: 0.9740\n",
            "Epoch 18/30\n",
            "1719/1719 [==============================] - 5s 3ms/step - loss: 0.0570 - accuracy: 0.9849 - val_loss: 0.0821 - val_accuracy: 0.9762\n",
            "Epoch 19/30\n",
            "1719/1719 [==============================] - 5s 3ms/step - loss: 0.0534 - accuracy: 0.9855 - val_loss: 0.0785 - val_accuracy: 0.9766\n",
            "Epoch 20/30\n",
            "1719/1719 [==============================] - 5s 3ms/step - loss: 0.0505 - accuracy: 0.9866 - val_loss: 0.0818 - val_accuracy: 0.9750\n",
            "Epoch 21/30\n",
            "1719/1719 [==============================] - 5s 3ms/step - loss: 0.0471 - accuracy: 0.9879 - val_loss: 0.0808 - val_accuracy: 0.9766\n",
            "Epoch 22/30\n",
            "1719/1719 [==============================] - 5s 3ms/step - loss: 0.0445 - accuracy: 0.9887 - val_loss: 0.0752 - val_accuracy: 0.9760\n",
            "Epoch 23/30\n",
            "1719/1719 [==============================] - 5s 3ms/step - loss: 0.0418 - accuracy: 0.9895 - val_loss: 0.0738 - val_accuracy: 0.9774\n",
            "Epoch 24/30\n",
            "1719/1719 [==============================] - 5s 3ms/step - loss: 0.0394 - accuracy: 0.9903 - val_loss: 0.0745 - val_accuracy: 0.9780\n",
            "Epoch 25/30\n",
            "1719/1719 [==============================] - 5s 3ms/step - loss: 0.0371 - accuracy: 0.9909 - val_loss: 0.0700 - val_accuracy: 0.9786\n",
            "Epoch 26/30\n",
            "1719/1719 [==============================] - 5s 3ms/step - loss: 0.0350 - accuracy: 0.9917 - val_loss: 0.0718 - val_accuracy: 0.9788\n",
            "Epoch 27/30\n",
            "1719/1719 [==============================] - 5s 3ms/step - loss: 0.0332 - accuracy: 0.9919 - val_loss: 0.0704 - val_accuracy: 0.9790\n",
            "Epoch 28/30\n",
            "1719/1719 [==============================] - 5s 3ms/step - loss: 0.0312 - accuracy: 0.9924 - val_loss: 0.0708 - val_accuracy: 0.9782\n",
            "Epoch 29/30\n",
            "1719/1719 [==============================] - 5s 3ms/step - loss: 0.0295 - accuracy: 0.9935 - val_loss: 0.0705 - val_accuracy: 0.9786\n",
            "Epoch 30/30\n",
            "1719/1719 [==============================] - 5s 3ms/step - loss: 0.0279 - accuracy: 0.9939 - val_loss: 0.0693 - val_accuracy: 0.9796\n"
          ]
        }
      ]
    },
    {
      "cell_type": "code",
      "source": [
        "import time\n",
        "import os\n",
        "\n",
        "def save_model(model_dir = 'trained_model'):\n",
        "  os.makedirs(model_dir, exist_ok = True)\n",
        "  filename = time.strftime(\"model_%Y_%M_%D_%H_%M_%S\")\n",
        "  model_path = os.path.join(model_dir, filename)\n",
        "  print(\"model is saved :\", filename)\n",
        "  return model_path"
      ],
      "metadata": {
        "id": "JwYZWOYGIIWt"
      },
      "execution_count": 40,
      "outputs": []
    },
    {
      "cell_type": "code",
      "source": [
        "unique_path = save_model()\n",
        "unique_path"
      ],
      "metadata": {
        "colab": {
          "base_uri": "https://localhost:8080/",
          "height": 53
        },
        "id": "UkVUMMKdKMzK",
        "outputId": "1751cc70-e2cb-4dee-85f4-a18ba8ccdc06"
      },
      "execution_count": 41,
      "outputs": [
        {
          "output_type": "stream",
          "name": "stdout",
          "text": [
            "model is saved : model_2022_34_05/08/22_19_34_59\n"
          ]
        },
        {
          "output_type": "execute_result",
          "data": {
            "text/plain": [
              "'trained_model/model_2022_34_05/08/22_19_34_59'"
            ],
            "application/vnd.google.colaboratory.intrinsic+json": {
              "type": "string"
            }
          },
          "metadata": {},
          "execution_count": 41
        }
      ]
    },
    {
      "cell_type": "code",
      "source": [
        "tf.keras.models.save_model(model_clf, unique_path)"
      ],
      "metadata": {
        "colab": {
          "base_uri": "https://localhost:8080/"
        },
        "id": "3-1GVcpbKW-D",
        "outputId": "082b5814-a739-44fb-a593-57a40ba807bb"
      },
      "execution_count": 42,
      "outputs": [
        {
          "output_type": "stream",
          "name": "stdout",
          "text": [
            "INFO:tensorflow:Assets written to: trained_model/model_2022_34_05/08/22_19_34_59/assets\n"
          ]
        }
      ]
    },
    {
      "cell_type": "code",
      "source": [
        "history.params"
      ],
      "metadata": {
        "colab": {
          "base_uri": "https://localhost:8080/"
        },
        "id": "yLqm8aWEKsFa",
        "outputId": "6181552b-e610-41b3-f623-f01e5937d21d"
      },
      "execution_count": 46,
      "outputs": [
        {
          "output_type": "execute_result",
          "data": {
            "text/plain": [
              "{'epochs': 30, 'steps': 1719, 'verbose': 1}"
            ]
          },
          "metadata": {},
          "execution_count": 46
        }
      ]
    },
    {
      "cell_type": "code",
      "source": [
        "pd.DataFrame(history.history)"
      ],
      "metadata": {
        "colab": {
          "base_uri": "https://localhost:8080/",
          "height": 990
        },
        "id": "5boeKPbrLAAB",
        "outputId": "1ab5cec7-562c-466a-b69c-dbf816995455"
      },
      "execution_count": 47,
      "outputs": [
        {
          "output_type": "execute_result",
          "data": {
            "text/plain": [
              "        loss  accuracy  val_loss  val_accuracy\n",
              "0   0.600837  0.844764  0.303711        0.9178\n",
              "1   0.290448  0.917418  0.239449        0.9324\n",
              "2   0.236689  0.932745  0.204916        0.9456\n",
              "3   0.201243  0.943109  0.174585        0.9510\n",
              "4   0.175379  0.949909  0.155519        0.9586\n",
              "5   0.154621  0.956000  0.145282        0.9624\n",
              "6   0.138186  0.960600  0.132230        0.9646\n",
              "7   0.124627  0.964745  0.121466        0.9662\n",
              "8   0.113291  0.968309  0.114828        0.9686\n",
              "9   0.103348  0.970782  0.110391        0.9690\n",
              "10  0.095393  0.973273  0.103182        0.9716\n",
              "11  0.087790  0.975255  0.097866        0.9708\n",
              "12  0.081136  0.977182  0.097540        0.9708\n",
              "13  0.075457  0.979291  0.089477        0.9738\n",
              "14  0.070002  0.980727  0.089085        0.9742\n",
              "15  0.065601  0.982091  0.086112        0.9756\n",
              "16  0.060861  0.983545  0.082867        0.9740\n",
              "17  0.057038  0.984945  0.082115        0.9762\n",
              "18  0.053372  0.985527  0.078493        0.9766\n",
              "19  0.050476  0.986600  0.081803        0.9750\n",
              "20  0.047065  0.987891  0.080833        0.9766\n",
              "21  0.044476  0.988673  0.075201        0.9760\n",
              "22  0.041843  0.989527  0.073779        0.9774\n",
              "23  0.039351  0.990255  0.074527        0.9780\n",
              "24  0.037123  0.990855  0.070025        0.9786\n",
              "25  0.034991  0.991745  0.071831        0.9788\n",
              "26  0.033195  0.991909  0.070361        0.9790\n",
              "27  0.031169  0.992382  0.070780        0.9782\n",
              "28  0.029517  0.993455  0.070467        0.9786\n",
              "29  0.027889  0.993855  0.069273        0.9796"
            ],
            "text/html": [
              "\n",
              "  <div id=\"df-c327541f-cd37-445c-a86b-4ad1e8dec984\">\n",
              "    <div class=\"colab-df-container\">\n",
              "      <div>\n",
              "<style scoped>\n",
              "    .dataframe tbody tr th:only-of-type {\n",
              "        vertical-align: middle;\n",
              "    }\n",
              "\n",
              "    .dataframe tbody tr th {\n",
              "        vertical-align: top;\n",
              "    }\n",
              "\n",
              "    .dataframe thead th {\n",
              "        text-align: right;\n",
              "    }\n",
              "</style>\n",
              "<table border=\"1\" class=\"dataframe\">\n",
              "  <thead>\n",
              "    <tr style=\"text-align: right;\">\n",
              "      <th></th>\n",
              "      <th>loss</th>\n",
              "      <th>accuracy</th>\n",
              "      <th>val_loss</th>\n",
              "      <th>val_accuracy</th>\n",
              "    </tr>\n",
              "  </thead>\n",
              "  <tbody>\n",
              "    <tr>\n",
              "      <th>0</th>\n",
              "      <td>0.600837</td>\n",
              "      <td>0.844764</td>\n",
              "      <td>0.303711</td>\n",
              "      <td>0.9178</td>\n",
              "    </tr>\n",
              "    <tr>\n",
              "      <th>1</th>\n",
              "      <td>0.290448</td>\n",
              "      <td>0.917418</td>\n",
              "      <td>0.239449</td>\n",
              "      <td>0.9324</td>\n",
              "    </tr>\n",
              "    <tr>\n",
              "      <th>2</th>\n",
              "      <td>0.236689</td>\n",
              "      <td>0.932745</td>\n",
              "      <td>0.204916</td>\n",
              "      <td>0.9456</td>\n",
              "    </tr>\n",
              "    <tr>\n",
              "      <th>3</th>\n",
              "      <td>0.201243</td>\n",
              "      <td>0.943109</td>\n",
              "      <td>0.174585</td>\n",
              "      <td>0.9510</td>\n",
              "    </tr>\n",
              "    <tr>\n",
              "      <th>4</th>\n",
              "      <td>0.175379</td>\n",
              "      <td>0.949909</td>\n",
              "      <td>0.155519</td>\n",
              "      <td>0.9586</td>\n",
              "    </tr>\n",
              "    <tr>\n",
              "      <th>5</th>\n",
              "      <td>0.154621</td>\n",
              "      <td>0.956000</td>\n",
              "      <td>0.145282</td>\n",
              "      <td>0.9624</td>\n",
              "    </tr>\n",
              "    <tr>\n",
              "      <th>6</th>\n",
              "      <td>0.138186</td>\n",
              "      <td>0.960600</td>\n",
              "      <td>0.132230</td>\n",
              "      <td>0.9646</td>\n",
              "    </tr>\n",
              "    <tr>\n",
              "      <th>7</th>\n",
              "      <td>0.124627</td>\n",
              "      <td>0.964745</td>\n",
              "      <td>0.121466</td>\n",
              "      <td>0.9662</td>\n",
              "    </tr>\n",
              "    <tr>\n",
              "      <th>8</th>\n",
              "      <td>0.113291</td>\n",
              "      <td>0.968309</td>\n",
              "      <td>0.114828</td>\n",
              "      <td>0.9686</td>\n",
              "    </tr>\n",
              "    <tr>\n",
              "      <th>9</th>\n",
              "      <td>0.103348</td>\n",
              "      <td>0.970782</td>\n",
              "      <td>0.110391</td>\n",
              "      <td>0.9690</td>\n",
              "    </tr>\n",
              "    <tr>\n",
              "      <th>10</th>\n",
              "      <td>0.095393</td>\n",
              "      <td>0.973273</td>\n",
              "      <td>0.103182</td>\n",
              "      <td>0.9716</td>\n",
              "    </tr>\n",
              "    <tr>\n",
              "      <th>11</th>\n",
              "      <td>0.087790</td>\n",
              "      <td>0.975255</td>\n",
              "      <td>0.097866</td>\n",
              "      <td>0.9708</td>\n",
              "    </tr>\n",
              "    <tr>\n",
              "      <th>12</th>\n",
              "      <td>0.081136</td>\n",
              "      <td>0.977182</td>\n",
              "      <td>0.097540</td>\n",
              "      <td>0.9708</td>\n",
              "    </tr>\n",
              "    <tr>\n",
              "      <th>13</th>\n",
              "      <td>0.075457</td>\n",
              "      <td>0.979291</td>\n",
              "      <td>0.089477</td>\n",
              "      <td>0.9738</td>\n",
              "    </tr>\n",
              "    <tr>\n",
              "      <th>14</th>\n",
              "      <td>0.070002</td>\n",
              "      <td>0.980727</td>\n",
              "      <td>0.089085</td>\n",
              "      <td>0.9742</td>\n",
              "    </tr>\n",
              "    <tr>\n",
              "      <th>15</th>\n",
              "      <td>0.065601</td>\n",
              "      <td>0.982091</td>\n",
              "      <td>0.086112</td>\n",
              "      <td>0.9756</td>\n",
              "    </tr>\n",
              "    <tr>\n",
              "      <th>16</th>\n",
              "      <td>0.060861</td>\n",
              "      <td>0.983545</td>\n",
              "      <td>0.082867</td>\n",
              "      <td>0.9740</td>\n",
              "    </tr>\n",
              "    <tr>\n",
              "      <th>17</th>\n",
              "      <td>0.057038</td>\n",
              "      <td>0.984945</td>\n",
              "      <td>0.082115</td>\n",
              "      <td>0.9762</td>\n",
              "    </tr>\n",
              "    <tr>\n",
              "      <th>18</th>\n",
              "      <td>0.053372</td>\n",
              "      <td>0.985527</td>\n",
              "      <td>0.078493</td>\n",
              "      <td>0.9766</td>\n",
              "    </tr>\n",
              "    <tr>\n",
              "      <th>19</th>\n",
              "      <td>0.050476</td>\n",
              "      <td>0.986600</td>\n",
              "      <td>0.081803</td>\n",
              "      <td>0.9750</td>\n",
              "    </tr>\n",
              "    <tr>\n",
              "      <th>20</th>\n",
              "      <td>0.047065</td>\n",
              "      <td>0.987891</td>\n",
              "      <td>0.080833</td>\n",
              "      <td>0.9766</td>\n",
              "    </tr>\n",
              "    <tr>\n",
              "      <th>21</th>\n",
              "      <td>0.044476</td>\n",
              "      <td>0.988673</td>\n",
              "      <td>0.075201</td>\n",
              "      <td>0.9760</td>\n",
              "    </tr>\n",
              "    <tr>\n",
              "      <th>22</th>\n",
              "      <td>0.041843</td>\n",
              "      <td>0.989527</td>\n",
              "      <td>0.073779</td>\n",
              "      <td>0.9774</td>\n",
              "    </tr>\n",
              "    <tr>\n",
              "      <th>23</th>\n",
              "      <td>0.039351</td>\n",
              "      <td>0.990255</td>\n",
              "      <td>0.074527</td>\n",
              "      <td>0.9780</td>\n",
              "    </tr>\n",
              "    <tr>\n",
              "      <th>24</th>\n",
              "      <td>0.037123</td>\n",
              "      <td>0.990855</td>\n",
              "      <td>0.070025</td>\n",
              "      <td>0.9786</td>\n",
              "    </tr>\n",
              "    <tr>\n",
              "      <th>25</th>\n",
              "      <td>0.034991</td>\n",
              "      <td>0.991745</td>\n",
              "      <td>0.071831</td>\n",
              "      <td>0.9788</td>\n",
              "    </tr>\n",
              "    <tr>\n",
              "      <th>26</th>\n",
              "      <td>0.033195</td>\n",
              "      <td>0.991909</td>\n",
              "      <td>0.070361</td>\n",
              "      <td>0.9790</td>\n",
              "    </tr>\n",
              "    <tr>\n",
              "      <th>27</th>\n",
              "      <td>0.031169</td>\n",
              "      <td>0.992382</td>\n",
              "      <td>0.070780</td>\n",
              "      <td>0.9782</td>\n",
              "    </tr>\n",
              "    <tr>\n",
              "      <th>28</th>\n",
              "      <td>0.029517</td>\n",
              "      <td>0.993455</td>\n",
              "      <td>0.070467</td>\n",
              "      <td>0.9786</td>\n",
              "    </tr>\n",
              "    <tr>\n",
              "      <th>29</th>\n",
              "      <td>0.027889</td>\n",
              "      <td>0.993855</td>\n",
              "      <td>0.069273</td>\n",
              "      <td>0.9796</td>\n",
              "    </tr>\n",
              "  </tbody>\n",
              "</table>\n",
              "</div>\n",
              "      <button class=\"colab-df-convert\" onclick=\"convertToInteractive('df-c327541f-cd37-445c-a86b-4ad1e8dec984')\"\n",
              "              title=\"Convert this dataframe to an interactive table.\"\n",
              "              style=\"display:none;\">\n",
              "        \n",
              "  <svg xmlns=\"http://www.w3.org/2000/svg\" height=\"24px\"viewBox=\"0 0 24 24\"\n",
              "       width=\"24px\">\n",
              "    <path d=\"M0 0h24v24H0V0z\" fill=\"none\"/>\n",
              "    <path d=\"M18.56 5.44l.94 2.06.94-2.06 2.06-.94-2.06-.94-.94-2.06-.94 2.06-2.06.94zm-11 1L8.5 8.5l.94-2.06 2.06-.94-2.06-.94L8.5 2.5l-.94 2.06-2.06.94zm10 10l.94 2.06.94-2.06 2.06-.94-2.06-.94-.94-2.06-.94 2.06-2.06.94z\"/><path d=\"M17.41 7.96l-1.37-1.37c-.4-.4-.92-.59-1.43-.59-.52 0-1.04.2-1.43.59L10.3 9.45l-7.72 7.72c-.78.78-.78 2.05 0 2.83L4 21.41c.39.39.9.59 1.41.59.51 0 1.02-.2 1.41-.59l7.78-7.78 2.81-2.81c.8-.78.8-2.07 0-2.86zM5.41 20L4 18.59l7.72-7.72 1.47 1.35L5.41 20z\"/>\n",
              "  </svg>\n",
              "      </button>\n",
              "      \n",
              "  <style>\n",
              "    .colab-df-container {\n",
              "      display:flex;\n",
              "      flex-wrap:wrap;\n",
              "      gap: 12px;\n",
              "    }\n",
              "\n",
              "    .colab-df-convert {\n",
              "      background-color: #E8F0FE;\n",
              "      border: none;\n",
              "      border-radius: 50%;\n",
              "      cursor: pointer;\n",
              "      display: none;\n",
              "      fill: #1967D2;\n",
              "      height: 32px;\n",
              "      padding: 0 0 0 0;\n",
              "      width: 32px;\n",
              "    }\n",
              "\n",
              "    .colab-df-convert:hover {\n",
              "      background-color: #E2EBFA;\n",
              "      box-shadow: 0px 1px 2px rgba(60, 64, 67, 0.3), 0px 1px 3px 1px rgba(60, 64, 67, 0.15);\n",
              "      fill: #174EA6;\n",
              "    }\n",
              "\n",
              "    [theme=dark] .colab-df-convert {\n",
              "      background-color: #3B4455;\n",
              "      fill: #D2E3FC;\n",
              "    }\n",
              "\n",
              "    [theme=dark] .colab-df-convert:hover {\n",
              "      background-color: #434B5C;\n",
              "      box-shadow: 0px 1px 3px 1px rgba(0, 0, 0, 0.15);\n",
              "      filter: drop-shadow(0px 1px 2px rgba(0, 0, 0, 0.3));\n",
              "      fill: #FFFFFF;\n",
              "    }\n",
              "  </style>\n",
              "\n",
              "      <script>\n",
              "        const buttonEl =\n",
              "          document.querySelector('#df-c327541f-cd37-445c-a86b-4ad1e8dec984 button.colab-df-convert');\n",
              "        buttonEl.style.display =\n",
              "          google.colab.kernel.accessAllowed ? 'block' : 'none';\n",
              "\n",
              "        async function convertToInteractive(key) {\n",
              "          const element = document.querySelector('#df-c327541f-cd37-445c-a86b-4ad1e8dec984');\n",
              "          const dataTable =\n",
              "            await google.colab.kernel.invokeFunction('convertToInteractive',\n",
              "                                                     [key], {});\n",
              "          if (!dataTable) return;\n",
              "\n",
              "          const docLinkHtml = 'Like what you see? Visit the ' +\n",
              "            '<a target=\"_blank\" href=https://colab.research.google.com/notebooks/data_table.ipynb>data table notebook</a>'\n",
              "            + ' to learn more about interactive tables.';\n",
              "          element.innerHTML = '';\n",
              "          dataTable['output_type'] = 'display_data';\n",
              "          await google.colab.output.renderOutput(dataTable, element);\n",
              "          const docLink = document.createElement('div');\n",
              "          docLink.innerHTML = docLinkHtml;\n",
              "          element.appendChild(docLink);\n",
              "        }\n",
              "      </script>\n",
              "    </div>\n",
              "  </div>\n",
              "  "
            ]
          },
          "metadata": {},
          "execution_count": 47
        }
      ]
    },
    {
      "cell_type": "markdown",
      "source": [
        "let's plot the graph for accuracy and loss"
      ],
      "metadata": {
        "id": "wtbR7p37NHhG"
      }
    },
    {
      "cell_type": "code",
      "source": [
        "pd.DataFrame(history.history).plot()"
      ],
      "metadata": {
        "colab": {
          "base_uri": "https://localhost:8080/",
          "height": 282
        },
        "id": "-TmTuJ-DLPQQ",
        "outputId": "f10f4639-0526-4c53-d5b2-cbd110bfe344"
      },
      "execution_count": 48,
      "outputs": [
        {
          "output_type": "execute_result",
          "data": {
            "text/plain": [
              "<matplotlib.axes._subplots.AxesSubplot at 0x7fb8c8306a50>"
            ]
          },
          "metadata": {},
          "execution_count": 48
        },
        {
          "output_type": "display_data",
          "data": {
            "text/plain": [
              "<Figure size 432x288 with 1 Axes>"
            ],
            "image/png": "[encoded data removed]"
          },
          "metadata": {
            "needs_background": "light"
          }
        }
      ]
    },
    {
      "cell_type": "markdown",
      "source": [
        "evalute model on test dataset"
      ],
      "metadata": {
        "id": "7zIW0vhjNMvE"
      }
    },
    {
      "cell_type": "code",
      "source": [
        "model_clf.evaluate(x_test, y_test)"
      ],
      "metadata": {
        "colab": {
          "base_uri": "https://localhost:8080/"
        },
        "id": "AB0EyOwoLjPu",
        "outputId": "94630042-b988-482d-ee11-a4d18ab59b1c"
      },
      "execution_count": 49,
      "outputs": [
        {
          "output_type": "stream",
          "name": "stdout",
          "text": [
            "313/313 [==============================] - 1s 2ms/step - loss: 0.0733 - accuracy: 0.9780\n"
          ]
        },
        {
          "output_type": "execute_result",
          "data": {
            "text/plain": [
              "[0.07330574095249176, 0.9779999852180481]"
            ]
          },
          "metadata": {},
          "execution_count": 49
        }
      ]
    },
    {
      "cell_type": "code",
      "source": [
        "x_new = x_test[:3]\n",
        "y_probability = model_clf.predict(x_new)\n",
        "y_probability.round(3)"
      ],
      "metadata": {
        "colab": {
          "base_uri": "https://localhost:8080/"
        },
        "id": "owr1PwGYLysD",
        "outputId": "682c8730-3bc8-4b5c-cdaa-9953564d4282"
      },
      "execution_count": 68,
      "outputs": [
        {
          "output_type": "execute_result",
          "data": {
            "text/plain": [
              "array([[0.   , 0.   , 0.   , 0.   , 0.   , 0.   , 0.   , 0.999, 0.   ,\n",
              "        0.   ],\n",
              "       [0.   , 0.   , 1.   , 0.   , 0.   , 0.   , 0.   , 0.   , 0.   ,\n",
              "        0.   ],\n",
              "       [0.   , 0.994, 0.   , 0.   , 0.001, 0.   , 0.   , 0.001, 0.003,\n",
              "        0.   ]], dtype=float32)"
            ]
          },
          "metadata": {},
          "execution_count": 68
        }
      ]
    },
    {
      "cell_type": "markdown",
      "source": [
        "let's test model on test dataset"
      ],
      "metadata": {
        "id": "aVLD7HFOM7iD"
      }
    },
    {
      "cell_type": "code",
      "source": [
        "y_pred = np.argmax(y_probability, axis=-1)\n",
        "y_pred"
      ],
      "metadata": {
        "colab": {
          "base_uri": "https://localhost:8080/"
        },
        "id": "zlhtPsZpL4uS",
        "outputId": "1701c9df-e495-4467-d5b9-95a2d5d928f0"
      },
      "execution_count": 69,
      "outputs": [
        {
          "output_type": "execute_result",
          "data": {
            "text/plain": [
              "array([7, 2, 1])"
            ]
          },
          "metadata": {},
          "execution_count": 69
        }
      ]
    },
    {
      "cell_type": "code",
      "source": [
        "y_actual = y_test[:3]\n",
        "y_actual"
      ],
      "metadata": {
        "colab": {
          "base_uri": "https://localhost:8080/"
        },
        "id": "qm_3W1ZbMhXD",
        "outputId": "bb56af21-9de7-4f12-db50-ab963e64f244"
      },
      "execution_count": 70,
      "outputs": [
        {
          "output_type": "execute_result",
          "data": {
            "text/plain": [
              "array([7, 2, 1], dtype=uint8)"
            ]
          },
          "metadata": {},
          "execution_count": 70
        }
      ]
    },
    {
      "cell_type": "markdown",
      "source": [
        "y_test == y_pred ... successfully predicted"
      ],
      "metadata": {
        "id": "m6ZD1vrHMmRs"
      }
    },
    {
      "cell_type": "code",
      "source": [
        "for data, pred, actual in zip(x_new, y_pred, y_actual):\n",
        "  plt.imshow(data, cmap = 'binary')\n",
        "  print('predicted :', pred)\n",
        "  print('actual :', actual)\n",
        "  plt.axis('off')\n",
        "  plt.show()\n",
        "  print('#######')"
      ],
      "metadata": {
        "colab": {
          "base_uri": "https://localhost:8080/",
          "height": 866
        },
        "id": "6NELjDddMkap",
        "outputId": "e8b8e17b-0435-4852-9884-6997ce53d127"
      },
      "execution_count": 75,
      "outputs": [
        {
          "output_type": "stream",
          "name": "stdout",
          "text": [
            "predicted : 7\n",
            "actual : 7\n"
          ]
        },
        {
          "output_type": "display_data",
          "data": {
            "text/plain": [
              "<Figure size 432x288 with 1 Axes>"
            ],
            "image/png": "[encoded data removed]"
          },
          "metadata": {
            "needs_background": "light"
          }
        },
        {
          "output_type": "stream",
          "name": "stdout",
          "text": [
            "#######\n",
            "predicted : 2\n",
            "actual : 2\n"
          ]
        },
        {
          "output_type": "display_data",
          "data": {
            "text/plain": [
              "<Figure size 432x288 with 1 Axes>"
            ],
            "image/png": "[encoded data removed]"
          },
          "metadata": {
            "needs_background": "light"
          }
        },
        {
          "output_type": "stream",
          "name": "stdout",
          "text": [
            "#######\n",
            "predicted : 1\n",
            "actual : 1\n"
          ]
        },
        {
          "output_type": "display_data",
          "data": {
            "text/plain": [
              "<Figure size 432x288 with 1 Axes>"
            ],
            "image/png": "[encoded data removed]"
          },
          "metadata": {
            "needs_background": "light"
          }
        },
        {
          "output_type": "stream",
          "name": "stdout",
          "text": [
            "#######\n"
          ]
        }
      ]
    },
    {
      "cell_type": "code",
      "source": [
        "for i in x_new:\n",
        "  plt.imshow(i, cmap = 'binary')\n",
        "  plt.axis('off')\n",
        "  plt.show()"
      ],
      "metadata": {
        "colab": {
          "base_uri": "https://localhost:8080/",
          "height": 710
        },
        "id": "_UPxom7dOVId",
        "outputId": "d44ae848-b62b-45dc-a869-aa28e7e4d480"
      },
      "execution_count": 73,
      "outputs": [
        {
          "output_type": "display_data",
          "data": {
            "text/plain": [
              "<Figure size 432x288 with 1 Axes>"
            ],
            "image/png": "[encoded data removed]"
          },
          "metadata": {
            "needs_background": "light"
          }
        },
        {
          "output_type": "display_data",
          "data": {
            "text/plain": [
              "<Figure size 432x288 with 1 Axes>"
            ],
            "image/png": "[encoded data removed]"
          },
          "metadata": {
            "needs_background": "light"
          }
        },
        {
          "output_type": "display_data",
          "data": {
            "text/plain": [
              "<Figure size 432x288 with 1 Axes>"
            ],
            "image/png": "[encoded data removed]"
          },
          "metadata": {
            "needs_background": "light"
          }
        }
      ]
    },
    {
      "cell_type": "code",
      "source": [
        "loded_model = tf.keras.models.load_model(unique_path)\n",
        "loded_model.evaluate(x_test, y_test)"
      ],
      "metadata": {
        "colab": {
          "base_uri": "https://localhost:8080/"
        },
        "id": "VZmXoO2jQQdX",
        "outputId": "4479806f-a070-4408-9e78-af24d3db22b7"
      },
      "execution_count": 77,
      "outputs": [
        {
          "output_type": "stream",
          "name": "stdout",
          "text": [
            "313/313 [==============================] - 1s 2ms/step - loss: 0.0733 - accuracy: 0.9780\n"
          ]
        },
        {
          "output_type": "execute_result",
          "data": {
            "text/plain": [
              "[0.07330574095249176, 0.9779999852180481]"
            ]
          },
          "metadata": {},
          "execution_count": 77
        }
      ]
    },
    {
      "cell_type": "code",
      "source": [
        ""
      ],
      "metadata": {
        "id": "yjlBkETHRAe_"
      },
      "execution_count": null,
      "outputs": []
    }
  ]
}